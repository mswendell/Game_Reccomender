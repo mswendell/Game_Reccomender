{
 "cells": [
  {
   "cell_type": "markdown",
   "id": "aa3def69",
   "metadata": {},
   "source": [
    "# Project\n",
    "\n",
    "Michael Wendell"
   ]
  },
  {
   "cell_type": "markdown",
   "id": "6ddd25d9",
   "metadata": {},
   "source": [
    "Load in required imports for data organization and graphical formatting."
   ]
  },
  {
   "cell_type": "code",
   "execution_count": 1,
   "id": "4608e30b",
   "metadata": {},
   "outputs": [],
   "source": [
    "from pathlib import Path\n",
    "import re"
   ]
  },
  {
   "cell_type": "code",
   "execution_count": 2,
   "id": "1f2630ab",
   "metadata": {},
   "outputs": [],
   "source": [
    "import numpy as np\n",
    "import pandas as pd\n",
    "import seaborn as sns\n",
    "import matplotlib.pyplot as plt"
   ]
  },
  {
   "cell_type": "code",
   "execution_count": 3,
   "id": "ad2c4810",
   "metadata": {},
   "outputs": [],
   "source": [
    "from lenskit import topn"
   ]
  },
  {
   "cell_type": "code",
   "execution_count": 4,
   "id": "a4cac822",
   "metadata": {},
   "outputs": [],
   "source": [
    "import gzip"
   ]
  },
  {
   "cell_type": "code",
   "execution_count": 5,
   "id": "9a12b332",
   "metadata": {},
   "outputs": [],
   "source": [
    "import seedbank\n",
    "seedbank.initialize(20230306)\n",
    "rng = seedbank.numpy_rng()"
   ]
  },
  {
   "cell_type": "markdown",
   "id": "a83f1dd3",
   "metadata": {},
   "source": [
    "## Recomendation Evaluation"
   ]
  },
  {
   "cell_type": "markdown",
   "id": "4933c2aa",
   "metadata": {},
   "source": [
    "After all algorithims have been trained and then generated on both the dev and eval set, we can now look at the performance for evaluation."
   ]
  },
  {
   "cell_type": "code",
   "execution_count": 6,
   "id": "283f8d91",
   "metadata": {},
   "outputs": [],
   "source": [
    "eval_test = pd.read_parquet('data/a3-eval-actions.parquet')\n",
    "dev_test = pd.read_parquet('data/a3-dev-actions.parquet')"
   ]
  },
  {
   "cell_type": "code",
   "execution_count": 7,
   "id": "ee55120a",
   "metadata": {},
   "outputs": [],
   "source": [
    "rla = topn.RecListAnalysis()\n",
    "rla.add_metric(topn.hit, k=100)\n",
    "rla.add_metric(topn.ndcg, k=100)\n",
    "rla.add_metric(topn.recip_rank, k=100)"
   ]
  },
  {
   "cell_type": "markdown",
   "id": "797bce5f",
   "metadata": {},
   "source": [
    "We want to look at hit rate, nDCG, and reciprocal ranking as forms of evaluation."
   ]
  },
  {
   "cell_type": "markdown",
   "id": "0c8886f7",
   "metadata": {},
   "source": [
    "### Tuning Parameters\n",
    "We first want to tune our hybrid recommender to perform better with our metrics, so we can get the best recommendations for the users."
   ]
  },
  {
   "cell_type": "markdown",
   "id": "93a160ae",
   "metadata": {},
   "source": [
    "#### Epochs\n",
    "First, we vary the number of epochs for the algorithm."
   ]
  },
  {
   "cell_type": "code",
   "execution_count": 8,
   "id": "8283bbad",
   "metadata": {},
   "outputs": [],
   "source": [
    "recs = {}\n",
    "_hy_re = re.compile(r'^hybrid-(.*)-(.*)-(dev|eval)\\.parquet')\n",
    "_algo_re = re.compile(r'^(.*)-(dev|eval)\\.parquet')\n",
    "for file in Path('recs_epochs').glob('*.parquet'):\n",
    "    hm = _hy_re.match(file.name)\n",
    "    am = _algo_re.match(file.name)\n",
    "    if hm:\n",
    "        key = hm.group(1), hm.group(2), hm.group(3)\n",
    "    elif am:\n",
    "        key = am.group(1), 'NA', am.group(2)\n",
    "    else:\n",
    "        raise ValueError(f'bad name {file.name}')\n",
    "    recs[key] = pd.read_parquet(file)"
   ]
  },
  {
   "cell_type": "code",
   "execution_count": 9,
   "id": "1d463a8c",
   "metadata": {},
   "outputs": [
    {
     "data": {
      "text/html": [
       "<div>\n",
       "<style scoped>\n",
       "    .dataframe tbody tr th:only-of-type {\n",
       "        vertical-align: middle;\n",
       "    }\n",
       "\n",
       "    .dataframe tbody tr th {\n",
       "        vertical-align: top;\n",
       "    }\n",
       "\n",
       "    .dataframe thead th {\n",
       "        text-align: right;\n",
       "    }\n",
       "</style>\n",
       "<table border=\"1\" class=\"dataframe\">\n",
       "  <thead>\n",
       "    <tr style=\"text-align: right;\">\n",
       "      <th></th>\n",
       "      <th></th>\n",
       "      <th></th>\n",
       "      <th></th>\n",
       "      <th>nrecs</th>\n",
       "      <th>hit</th>\n",
       "      <th>ndcg</th>\n",
       "      <th>recip_rank</th>\n",
       "      <th>ntruth</th>\n",
       "    </tr>\n",
       "    <tr>\n",
       "      <th>algo</th>\n",
       "      <th>parts</th>\n",
       "      <th>set</th>\n",
       "      <th>user</th>\n",
       "      <th></th>\n",
       "      <th></th>\n",
       "      <th></th>\n",
       "      <th></th>\n",
       "      <th></th>\n",
       "    </tr>\n",
       "  </thead>\n",
       "  <tbody>\n",
       "    <tr>\n",
       "      <th rowspan=\"5\" valign=\"top\">E1</th>\n",
       "      <th rowspan=\"5\" valign=\"top\">NA</th>\n",
       "      <th rowspan=\"5\" valign=\"top\">dev</th>\n",
       "      <th>6046878</th>\n",
       "      <td>100.0</td>\n",
       "      <td>1.0</td>\n",
       "      <td>0.058325</td>\n",
       "      <td>0.033333</td>\n",
       "      <td>13</td>\n",
       "    </tr>\n",
       "    <tr>\n",
       "      <th>117918</th>\n",
       "      <td>100.0</td>\n",
       "      <td>1.0</td>\n",
       "      <td>0.208015</td>\n",
       "      <td>0.035714</td>\n",
       "      <td>1</td>\n",
       "    </tr>\n",
       "    <tr>\n",
       "      <th>4665144</th>\n",
       "      <td>100.0</td>\n",
       "      <td>1.0</td>\n",
       "      <td>0.169992</td>\n",
       "      <td>0.023810</td>\n",
       "      <td>3</td>\n",
       "    </tr>\n",
       "    <tr>\n",
       "      <th>3385905</th>\n",
       "      <td>100.0</td>\n",
       "      <td>0.0</td>\n",
       "      <td>0.000000</td>\n",
       "      <td>0.000000</td>\n",
       "      <td>1</td>\n",
       "    </tr>\n",
       "    <tr>\n",
       "      <th>2896080</th>\n",
       "      <td>100.0</td>\n",
       "      <td>0.0</td>\n",
       "      <td>0.000000</td>\n",
       "      <td>0.000000</td>\n",
       "      <td>1</td>\n",
       "    </tr>\n",
       "    <tr>\n",
       "      <th>...</th>\n",
       "      <th>...</th>\n",
       "      <th>...</th>\n",
       "      <th>...</th>\n",
       "      <td>...</td>\n",
       "      <td>...</td>\n",
       "      <td>...</td>\n",
       "      <td>...</td>\n",
       "      <td>...</td>\n",
       "    </tr>\n",
       "    <tr>\n",
       "      <th rowspan=\"5\" valign=\"top\">E7</th>\n",
       "      <th rowspan=\"5\" valign=\"top\">NA</th>\n",
       "      <th rowspan=\"5\" valign=\"top\">eval</th>\n",
       "      <th>6229490</th>\n",
       "      <td>0.0</td>\n",
       "      <td>NaN</td>\n",
       "      <td>NaN</td>\n",
       "      <td>NaN</td>\n",
       "      <td>3</td>\n",
       "    </tr>\n",
       "    <tr>\n",
       "      <th>6229534</th>\n",
       "      <td>0.0</td>\n",
       "      <td>NaN</td>\n",
       "      <td>NaN</td>\n",
       "      <td>NaN</td>\n",
       "      <td>3</td>\n",
       "    </tr>\n",
       "    <tr>\n",
       "      <th>6229876</th>\n",
       "      <td>0.0</td>\n",
       "      <td>NaN</td>\n",
       "      <td>NaN</td>\n",
       "      <td>NaN</td>\n",
       "      <td>3</td>\n",
       "    </tr>\n",
       "    <tr>\n",
       "      <th>6230173</th>\n",
       "      <td>0.0</td>\n",
       "      <td>NaN</td>\n",
       "      <td>NaN</td>\n",
       "      <td>NaN</td>\n",
       "      <td>2</td>\n",
       "    </tr>\n",
       "    <tr>\n",
       "      <th>6230389</th>\n",
       "      <td>0.0</td>\n",
       "      <td>NaN</td>\n",
       "      <td>NaN</td>\n",
       "      <td>NaN</td>\n",
       "      <td>2</td>\n",
       "    </tr>\n",
       "  </tbody>\n",
       "</table>\n",
       "<p>400000 rows × 5 columns</p>\n",
       "</div>"
      ],
      "text/plain": [
       "                         nrecs  hit      ndcg  recip_rank  ntruth\n",
       "algo parts set  user                                             \n",
       "E1   NA    dev  6046878  100.0  1.0  0.058325    0.033333      13\n",
       "                117918   100.0  1.0  0.208015    0.035714       1\n",
       "                4665144  100.0  1.0  0.169992    0.023810       3\n",
       "                3385905  100.0  0.0  0.000000    0.000000       1\n",
       "                2896080  100.0  0.0  0.000000    0.000000       1\n",
       "...                        ...  ...       ...         ...     ...\n",
       "E7   NA    eval 6229490    0.0  NaN       NaN         NaN       3\n",
       "                6229534    0.0  NaN       NaN         NaN       3\n",
       "                6229876    0.0  NaN       NaN         NaN       3\n",
       "                6230173    0.0  NaN       NaN         NaN       2\n",
       "                6230389    0.0  NaN       NaN         NaN       2\n",
       "\n",
       "[400000 rows x 5 columns]"
      ]
     },
     "execution_count": 9,
     "metadata": {},
     "output_type": "execute_result"
    }
   ],
   "source": [
    "recs = pd.concat(recs, names=['algo', 'parts', 'set']).reset_index(['algo', 'parts', 'set']).reset_index(drop=True)\n",
    "scores = rla.compute(recs, pd.concat([dev_test, eval_test], ignore_index=True), include_missing=True)\n",
    "scores"
   ]
  },
  {
   "cell_type": "code",
   "execution_count": 10,
   "id": "7062afdb",
   "metadata": {},
   "outputs": [],
   "source": [
    "scores = scores.reset_index()"
   ]
  },
  {
   "cell_type": "code",
   "execution_count": 16,
   "id": "ad69ced5",
   "metadata": {},
   "outputs": [
    {
     "data": {
      "image/png": "[encoded data removed]",
      "text/plain": [
       "<Figure size 500x500 with 1 Axes>"
      ]
     },
     "metadata": {},
     "output_type": "display_data"
    }
   ],
   "source": [
    "sns.color_palette(\"Set2\")\n",
    "sns.catplot(scores, x='algo', y='ndcg', kind='bar')\n",
    "plt.xlabel('Epochs')\n",
    "plt.ylabel('nDCG')\n",
    "plt.title('Epochs nDCG Performance')\n",
    "plt.show()"
   ]
  },
  {
   "cell_type": "code",
   "execution_count": 17,
   "id": "df1aa505",
   "metadata": {},
   "outputs": [
    {
     "data": {
      "image/png": "[encoded data removed]",
      "text/plain": [
       "<Figure size 579.25x500 with 1 Axes>"
      ]
     },
     "metadata": {},
     "output_type": "display_data"
    }
   ],
   "source": [
    "sns.catplot(scores, x='algo', y='recip_rank', hue='set', kind='bar')\n",
    "plt.xlabel('Epochs')\n",
    "plt.ylabel('MRR')\n",
    "plt.title('Epochs MRR Performance')\n",
    "plt.show()"
   ]
  },
  {
   "cell_type": "code",
   "execution_count": 18,
   "id": "7dc26464",
   "metadata": {},
   "outputs": [
    {
     "data": {
      "image/png": "[encoded data removed]",
      "text/plain": [
       "<Figure size 579.25x500 with 1 Axes>"
      ]
     },
     "metadata": {},
     "output_type": "display_data"
    }
   ],
   "source": [
    "sns.catplot(scores, x='algo', y='hit', hue='set', kind='bar')\n",
    "plt.xlabel('Epochs')\n",
    "plt.ylabel('Hit Rate')\n",
    "plt.title('Epochs Hit Rate Performance')\n",
    "plt.show()"
   ]
  },
  {
   "cell_type": "markdown",
   "id": "807f5139",
   "metadata": {},
   "source": [
    "After reviewing all three plots, we can see that about 5 epochs is where the algorihtm has the best results. Using 7 epochs is close, but it looks like it could be overfitting the training data."
   ]
  },
  {
   "cell_type": "markdown",
   "id": "9a49f5ed",
   "metadata": {},
   "source": [
    "#### Regularization Term\n",
    "Second, we will vary the regularization."
   ]
  },
  {
   "cell_type": "code",
   "execution_count": 19,
   "id": "206e715f",
   "metadata": {},
   "outputs": [],
   "source": [
    "recs = {}\n",
    "_hy_re = re.compile(r'^hybrid-(.*)-(.*)-(dev|eval)\\.parquet')\n",
    "_algo_re = re.compile(r'^(.*)-(dev|eval)\\.parquet')\n",
    "for file in Path('recs_reg').glob('*.parquet'):\n",
    "    hm = _hy_re.match(file.name)\n",
    "    am = _algo_re.match(file.name)\n",
    "    if hm:\n",
    "        key = hm.group(1), hm.group(2), hm.group(3)\n",
    "    elif am:\n",
    "        key = am.group(1), 'NA', am.group(2)\n",
    "    else:\n",
    "        raise ValueError(f'bad name {file.name}')\n",
    "    recs[key] = pd.read_parquet(file)"
   ]
  },
  {
   "cell_type": "code",
   "execution_count": 20,
   "id": "32276135",
   "metadata": {},
   "outputs": [
    {
     "data": {
      "text/html": [
       "<div>\n",
       "<style scoped>\n",
       "    .dataframe tbody tr th:only-of-type {\n",
       "        vertical-align: middle;\n",
       "    }\n",
       "\n",
       "    .dataframe tbody tr th {\n",
       "        vertical-align: top;\n",
       "    }\n",
       "\n",
       "    .dataframe thead th {\n",
       "        text-align: right;\n",
       "    }\n",
       "</style>\n",
       "<table border=\"1\" class=\"dataframe\">\n",
       "  <thead>\n",
       "    <tr style=\"text-align: right;\">\n",
       "      <th></th>\n",
       "      <th></th>\n",
       "      <th></th>\n",
       "      <th></th>\n",
       "      <th>nrecs</th>\n",
       "      <th>hit</th>\n",
       "      <th>ndcg</th>\n",
       "      <th>recip_rank</th>\n",
       "      <th>ntruth</th>\n",
       "    </tr>\n",
       "    <tr>\n",
       "      <th>algo</th>\n",
       "      <th>parts</th>\n",
       "      <th>set</th>\n",
       "      <th>user</th>\n",
       "      <th></th>\n",
       "      <th></th>\n",
       "      <th></th>\n",
       "      <th></th>\n",
       "      <th></th>\n",
       "    </tr>\n",
       "  </thead>\n",
       "  <tbody>\n",
       "    <tr>\n",
       "      <th rowspan=\"5\" valign=\"top\">R0.001</th>\n",
       "      <th rowspan=\"5\" valign=\"top\">NA</th>\n",
       "      <th rowspan=\"5\" valign=\"top\">dev</th>\n",
       "      <th>6046878</th>\n",
       "      <td>100.0</td>\n",
       "      <td>1.0</td>\n",
       "      <td>0.083326</td>\n",
       "      <td>0.043478</td>\n",
       "      <td>13</td>\n",
       "    </tr>\n",
       "    <tr>\n",
       "      <th>117918</th>\n",
       "      <td>100.0</td>\n",
       "      <td>1.0</td>\n",
       "      <td>0.224244</td>\n",
       "      <td>0.045455</td>\n",
       "      <td>1</td>\n",
       "    </tr>\n",
       "    <tr>\n",
       "      <th>4665144</th>\n",
       "      <td>100.0</td>\n",
       "      <td>1.0</td>\n",
       "      <td>0.630930</td>\n",
       "      <td>0.333333</td>\n",
       "      <td>3</td>\n",
       "    </tr>\n",
       "    <tr>\n",
       "      <th>3385905</th>\n",
       "      <td>100.0</td>\n",
       "      <td>0.0</td>\n",
       "      <td>0.000000</td>\n",
       "      <td>0.000000</td>\n",
       "      <td>1</td>\n",
       "    </tr>\n",
       "    <tr>\n",
       "      <th>2896080</th>\n",
       "      <td>100.0</td>\n",
       "      <td>1.0</td>\n",
       "      <td>0.172970</td>\n",
       "      <td>0.018182</td>\n",
       "      <td>1</td>\n",
       "    </tr>\n",
       "    <tr>\n",
       "      <th>...</th>\n",
       "      <th>...</th>\n",
       "      <th>...</th>\n",
       "      <th>...</th>\n",
       "      <td>...</td>\n",
       "      <td>...</td>\n",
       "      <td>...</td>\n",
       "      <td>...</td>\n",
       "      <td>...</td>\n",
       "    </tr>\n",
       "    <tr>\n",
       "      <th rowspan=\"5\" valign=\"top\">R1.0</th>\n",
       "      <th rowspan=\"5\" valign=\"top\">NA</th>\n",
       "      <th rowspan=\"5\" valign=\"top\">eval</th>\n",
       "      <th>6229490</th>\n",
       "      <td>0.0</td>\n",
       "      <td>NaN</td>\n",
       "      <td>NaN</td>\n",
       "      <td>NaN</td>\n",
       "      <td>3</td>\n",
       "    </tr>\n",
       "    <tr>\n",
       "      <th>6229534</th>\n",
       "      <td>0.0</td>\n",
       "      <td>NaN</td>\n",
       "      <td>NaN</td>\n",
       "      <td>NaN</td>\n",
       "      <td>3</td>\n",
       "    </tr>\n",
       "    <tr>\n",
       "      <th>6229876</th>\n",
       "      <td>0.0</td>\n",
       "      <td>NaN</td>\n",
       "      <td>NaN</td>\n",
       "      <td>NaN</td>\n",
       "      <td>3</td>\n",
       "    </tr>\n",
       "    <tr>\n",
       "      <th>6230173</th>\n",
       "      <td>0.0</td>\n",
       "      <td>NaN</td>\n",
       "      <td>NaN</td>\n",
       "      <td>NaN</td>\n",
       "      <td>2</td>\n",
       "    </tr>\n",
       "    <tr>\n",
       "      <th>6230389</th>\n",
       "      <td>0.0</td>\n",
       "      <td>NaN</td>\n",
       "      <td>NaN</td>\n",
       "      <td>NaN</td>\n",
       "      <td>2</td>\n",
       "    </tr>\n",
       "  </tbody>\n",
       "</table>\n",
       "<p>400000 rows × 5 columns</p>\n",
       "</div>"
      ],
      "text/plain": [
       "                           nrecs  hit      ndcg  recip_rank  ntruth\n",
       "algo   parts set  user                                             \n",
       "R0.001 NA    dev  6046878  100.0  1.0  0.083326    0.043478      13\n",
       "                  117918   100.0  1.0  0.224244    0.045455       1\n",
       "                  4665144  100.0  1.0  0.630930    0.333333       3\n",
       "                  3385905  100.0  0.0  0.000000    0.000000       1\n",
       "                  2896080  100.0  1.0  0.172970    0.018182       1\n",
       "...                          ...  ...       ...         ...     ...\n",
       "R1.0   NA    eval 6229490    0.0  NaN       NaN         NaN       3\n",
       "                  6229534    0.0  NaN       NaN         NaN       3\n",
       "                  6229876    0.0  NaN       NaN         NaN       3\n",
       "                  6230173    0.0  NaN       NaN         NaN       2\n",
       "                  6230389    0.0  NaN       NaN         NaN       2\n",
       "\n",
       "[400000 rows x 5 columns]"
      ]
     },
     "execution_count": 20,
     "metadata": {},
     "output_type": "execute_result"
    }
   ],
   "source": [
    "recs = pd.concat(recs, names=['algo', 'parts', 'set']).reset_index(['algo', 'parts', 'set']).reset_index(drop=True)\n",
    "scores = rla.compute(recs, pd.concat([dev_test, eval_test], ignore_index=True), include_missing=True)\n",
    "scores"
   ]
  },
  {
   "cell_type": "code",
   "execution_count": 21,
   "id": "16106e0c",
   "metadata": {},
   "outputs": [],
   "source": [
    "scores = scores.reset_index()"
   ]
  },
  {
   "cell_type": "code",
   "execution_count": 22,
   "id": "1a6bc1d1",
   "metadata": {},
   "outputs": [
    {
     "data": {
      "image/png": "[encoded data removed]",
      "text/plain": [
       "<Figure size 500x500 with 1 Axes>"
      ]
     },
     "metadata": {},
     "output_type": "display_data"
    }
   ],
   "source": [
    "sns.color_palette(\"Set2\")\n",
    "sns.catplot(scores, x='algo', y='ndcg', kind='bar')\n",
    "plt.xlabel('Regularization Strength')\n",
    "plt.ylabel('nDCG')\n",
    "plt.title('Regularization nDCG Performance')\n",
    "plt.show()"
   ]
  },
  {
   "cell_type": "code",
   "execution_count": 23,
   "id": "9e057a24",
   "metadata": {},
   "outputs": [
    {
     "data": {
      "image/png": "[encoded data removed]",
      "text/plain": [
       "<Figure size 579.25x500 with 1 Axes>"
      ]
     },
     "metadata": {},
     "output_type": "display_data"
    }
   ],
   "source": [
    "sns.catplot(scores, x='algo', y='recip_rank', hue='set', kind='bar')\n",
    "plt.xlabel('Regularization Strength')\n",
    "plt.ylabel('MRR')\n",
    "plt.title('Regularization MRR Performance')\n",
    "plt.show()"
   ]
  },
  {
   "cell_type": "code",
   "execution_count": 24,
   "id": "e0988b3d",
   "metadata": {},
   "outputs": [
    {
     "data": {
      "image/png": "[encoded data removed]",
      "text/plain": [
       "<Figure size 579.25x500 with 1 Axes>"
      ]
     },
     "metadata": {},
     "output_type": "display_data"
    }
   ],
   "source": [
    "sns.catplot(scores, x='algo', y='hit', hue='set', kind='bar')\n",
    "plt.xlabel('Regularization Strength')\n",
    "plt.ylabel('Hit Rate')\n",
    "plt.title('Regularization Hit Rate Performance')\n",
    "plt.show()"
   ]
  },
  {
   "cell_type": "markdown",
   "id": "fe3b6692",
   "metadata": {},
   "source": [
    "For regularization, we can see that a strength of 0.1 seems to perform best in all but the hit rate."
   ]
  },
  {
   "cell_type": "markdown",
   "id": "bc727df1",
   "metadata": {},
   "source": [
    "#### Number of Features\n",
    "Thrid, we will compare the number of feature. However, due to hardware constraints, my personal computer could not load any more than 70 features, so that will be the maximum number that we test."
   ]
  },
  {
   "cell_type": "code",
   "execution_count": 25,
   "id": "61478965",
   "metadata": {},
   "outputs": [],
   "source": [
    "recs = {}\n",
    "_hy_re = re.compile(r'^hybrid-(.*)-(.*)-(dev|eval)\\.parquet')\n",
    "_algo_re = re.compile(r'^(.*)-(dev|eval)\\.parquet')\n",
    "for file in Path('recs_feat').glob('*.parquet'):\n",
    "    hm = _hy_re.match(file.name)\n",
    "    am = _algo_re.match(file.name)\n",
    "    if hm:\n",
    "        key = hm.group(1), hm.group(2), hm.group(3)\n",
    "    elif am:\n",
    "        key = am.group(1), 'NA', am.group(2)\n",
    "    else:\n",
    "        raise ValueError(f'bad name {file.name}')\n",
    "    recs[key] = pd.read_parquet(file)"
   ]
  },
  {
   "cell_type": "code",
   "execution_count": 26,
   "id": "df3477f9",
   "metadata": {},
   "outputs": [
    {
     "data": {
      "text/html": [
       "<div>\n",
       "<style scoped>\n",
       "    .dataframe tbody tr th:only-of-type {\n",
       "        vertical-align: middle;\n",
       "    }\n",
       "\n",
       "    .dataframe tbody tr th {\n",
       "        vertical-align: top;\n",
       "    }\n",
       "\n",
       "    .dataframe thead th {\n",
       "        text-align: right;\n",
       "    }\n",
       "</style>\n",
       "<table border=\"1\" class=\"dataframe\">\n",
       "  <thead>\n",
       "    <tr style=\"text-align: right;\">\n",
       "      <th></th>\n",
       "      <th></th>\n",
       "      <th></th>\n",
       "      <th></th>\n",
       "      <th>nrecs</th>\n",
       "      <th>hit</th>\n",
       "      <th>ndcg</th>\n",
       "      <th>recip_rank</th>\n",
       "      <th>ntruth</th>\n",
       "    </tr>\n",
       "    <tr>\n",
       "      <th>algo</th>\n",
       "      <th>parts</th>\n",
       "      <th>set</th>\n",
       "      <th>user</th>\n",
       "      <th></th>\n",
       "      <th></th>\n",
       "      <th></th>\n",
       "      <th></th>\n",
       "      <th></th>\n",
       "    </tr>\n",
       "  </thead>\n",
       "  <tbody>\n",
       "    <tr>\n",
       "      <th rowspan=\"5\" valign=\"top\">F10</th>\n",
       "      <th rowspan=\"5\" valign=\"top\">NA</th>\n",
       "      <th rowspan=\"5\" valign=\"top\">dev</th>\n",
       "      <th>6046878</th>\n",
       "      <td>100.0</td>\n",
       "      <td>1.0</td>\n",
       "      <td>0.135404</td>\n",
       "      <td>0.250000</td>\n",
       "      <td>13</td>\n",
       "    </tr>\n",
       "    <tr>\n",
       "      <th>117918</th>\n",
       "      <td>100.0</td>\n",
       "      <td>0.0</td>\n",
       "      <td>0.000000</td>\n",
       "      <td>0.000000</td>\n",
       "      <td>1</td>\n",
       "    </tr>\n",
       "    <tr>\n",
       "      <th>4665144</th>\n",
       "      <td>100.0</td>\n",
       "      <td>1.0</td>\n",
       "      <td>0.224244</td>\n",
       "      <td>0.045455</td>\n",
       "      <td>3</td>\n",
       "    </tr>\n",
       "    <tr>\n",
       "      <th>3385905</th>\n",
       "      <td>100.0</td>\n",
       "      <td>0.0</td>\n",
       "      <td>0.000000</td>\n",
       "      <td>0.000000</td>\n",
       "      <td>1</td>\n",
       "    </tr>\n",
       "    <tr>\n",
       "      <th>2896080</th>\n",
       "      <td>100.0</td>\n",
       "      <td>1.0</td>\n",
       "      <td>0.151861</td>\n",
       "      <td>0.010417</td>\n",
       "      <td>1</td>\n",
       "    </tr>\n",
       "    <tr>\n",
       "      <th>...</th>\n",
       "      <th>...</th>\n",
       "      <th>...</th>\n",
       "      <th>...</th>\n",
       "      <td>...</td>\n",
       "      <td>...</td>\n",
       "      <td>...</td>\n",
       "      <td>...</td>\n",
       "      <td>...</td>\n",
       "    </tr>\n",
       "    <tr>\n",
       "      <th rowspan=\"5\" valign=\"top\">F70</th>\n",
       "      <th rowspan=\"5\" valign=\"top\">NA</th>\n",
       "      <th rowspan=\"5\" valign=\"top\">eval</th>\n",
       "      <th>6229490</th>\n",
       "      <td>0.0</td>\n",
       "      <td>NaN</td>\n",
       "      <td>NaN</td>\n",
       "      <td>NaN</td>\n",
       "      <td>3</td>\n",
       "    </tr>\n",
       "    <tr>\n",
       "      <th>6229534</th>\n",
       "      <td>0.0</td>\n",
       "      <td>NaN</td>\n",
       "      <td>NaN</td>\n",
       "      <td>NaN</td>\n",
       "      <td>3</td>\n",
       "    </tr>\n",
       "    <tr>\n",
       "      <th>6229876</th>\n",
       "      <td>0.0</td>\n",
       "      <td>NaN</td>\n",
       "      <td>NaN</td>\n",
       "      <td>NaN</td>\n",
       "      <td>3</td>\n",
       "    </tr>\n",
       "    <tr>\n",
       "      <th>6230173</th>\n",
       "      <td>0.0</td>\n",
       "      <td>NaN</td>\n",
       "      <td>NaN</td>\n",
       "      <td>NaN</td>\n",
       "      <td>2</td>\n",
       "    </tr>\n",
       "    <tr>\n",
       "      <th>6230389</th>\n",
       "      <td>0.0</td>\n",
       "      <td>NaN</td>\n",
       "      <td>NaN</td>\n",
       "      <td>NaN</td>\n",
       "      <td>2</td>\n",
       "    </tr>\n",
       "  </tbody>\n",
       "</table>\n",
       "<p>400000 rows × 5 columns</p>\n",
       "</div>"
      ],
      "text/plain": [
       "                         nrecs  hit      ndcg  recip_rank  ntruth\n",
       "algo parts set  user                                             \n",
       "F10  NA    dev  6046878  100.0  1.0  0.135404    0.250000      13\n",
       "                117918   100.0  0.0  0.000000    0.000000       1\n",
       "                4665144  100.0  1.0  0.224244    0.045455       3\n",
       "                3385905  100.0  0.0  0.000000    0.000000       1\n",
       "                2896080  100.0  1.0  0.151861    0.010417       1\n",
       "...                        ...  ...       ...         ...     ...\n",
       "F70  NA    eval 6229490    0.0  NaN       NaN         NaN       3\n",
       "                6229534    0.0  NaN       NaN         NaN       3\n",
       "                6229876    0.0  NaN       NaN         NaN       3\n",
       "                6230173    0.0  NaN       NaN         NaN       2\n",
       "                6230389    0.0  NaN       NaN         NaN       2\n",
       "\n",
       "[400000 rows x 5 columns]"
      ]
     },
     "execution_count": 26,
     "metadata": {},
     "output_type": "execute_result"
    }
   ],
   "source": [
    "recs = pd.concat(recs, names=['algo', 'parts', 'set']).reset_index(['algo', 'parts', 'set']).reset_index(drop=True)\n",
    "scores = rla.compute(recs, pd.concat([dev_test, eval_test], ignore_index=True), include_missing=True)\n",
    "scores"
   ]
  },
  {
   "cell_type": "code",
   "execution_count": 27,
   "id": "f3535647",
   "metadata": {},
   "outputs": [],
   "source": [
    "scores = scores.reset_index()"
   ]
  },
  {
   "cell_type": "code",
   "execution_count": 28,
   "id": "33e81667",
   "metadata": {},
   "outputs": [
    {
     "data": {
      "image/png": "[encoded data removed]",
      "text/plain": [
       "<Figure size 500x500 with 1 Axes>"
      ]
     },
     "metadata": {},
     "output_type": "display_data"
    }
   ],
   "source": [
    "sns.color_palette(\"Set2\")\n",
    "sns.catplot(scores, x='algo', y='ndcg', kind='bar')\n",
    "plt.xlabel('Features')\n",
    "plt.ylabel('nDCG')\n",
    "plt.title('Features nDCG Performance')\n",
    "plt.show()"
   ]
  },
  {
   "cell_type": "code",
   "execution_count": 29,
   "id": "c50c8f8a",
   "metadata": {},
   "outputs": [
    {
     "data": {
      "image/png": "[encoded data removed]",
      "text/plain": [
       "<Figure size 579.25x500 with 1 Axes>"
      ]
     },
     "metadata": {},
     "output_type": "display_data"
    }
   ],
   "source": [
    "sns.catplot(scores, x='algo', y='recip_rank', hue='set', kind='bar')\n",
    "plt.xlabel('Features')\n",
    "plt.ylabel('MRR')\n",
    "plt.title('Features MRR Performance')\n",
    "plt.show()"
   ]
  },
  {
   "cell_type": "code",
   "execution_count": 30,
   "id": "fbb1b735",
   "metadata": {},
   "outputs": [
    {
     "data": {
      "image/png": "[encoded data removed]",
      "text/plain": [
       "<Figure size 579.25x500 with 1 Axes>"
      ]
     },
     "metadata": {},
     "output_type": "display_data"
    }
   ],
   "source": [
    "sns.catplot(scores, x='algo', y='hit', hue='set', kind='bar')\n",
    "plt.xlabel('Features')\n",
    "plt.ylabel('Hit Rate')\n",
    "plt.title('Features Hit Rate Performance')\n",
    "plt.show()"
   ]
  },
  {
   "cell_type": "markdown",
   "id": "e8942027",
   "metadata": {},
   "source": [
    "From the graphs we can see perfromance improves with more features. It does look like adding more features has somewhat diminishing returns, so we will stick with 70 features in our tuned model."
   ]
  },
  {
   "cell_type": "markdown",
   "id": "bbc30ff3",
   "metadata": {},
   "source": [
    "#### Content\n",
    "Lastly, we want to see if adding the genres or developers has any affect on the performance as well by turning each component on one at a time."
   ]
  },
  {
   "cell_type": "code",
   "execution_count": 31,
   "id": "74c9fa5e",
   "metadata": {},
   "outputs": [],
   "source": [
    "recs = {}\n",
    "_hy_re = re.compile(r'^hybrid-(.*)-(.*)-(dev|eval)\\.parquet')\n",
    "_algo_re = re.compile(r'^(.*)-(dev|eval)\\.parquet')\n",
    "for file in Path('recs_aba').glob('*.parquet'):\n",
    "    hm = _hy_re.match(file.name)\n",
    "    am = _algo_re.match(file.name)\n",
    "    if hm:\n",
    "        key = hm.group(1), hm.group(2), hm.group(3)\n",
    "    elif am:\n",
    "        key = am.group(1), 'NA', am.group(2)\n",
    "    else:\n",
    "        raise ValueError(f'bad name {file.name}')\n",
    "    recs[key] = pd.read_parquet(file)"
   ]
  },
  {
   "cell_type": "code",
   "execution_count": 32,
   "id": "e44c682a",
   "metadata": {},
   "outputs": [
    {
     "data": {
      "text/html": [
       "<div>\n",
       "<style scoped>\n",
       "    .dataframe tbody tr th:only-of-type {\n",
       "        vertical-align: middle;\n",
       "    }\n",
       "\n",
       "    .dataframe tbody tr th {\n",
       "        vertical-align: top;\n",
       "    }\n",
       "\n",
       "    .dataframe thead th {\n",
       "        text-align: right;\n",
       "    }\n",
       "</style>\n",
       "<table border=\"1\" class=\"dataframe\">\n",
       "  <thead>\n",
       "    <tr style=\"text-align: right;\">\n",
       "      <th></th>\n",
       "      <th></th>\n",
       "      <th></th>\n",
       "      <th></th>\n",
       "      <th>nrecs</th>\n",
       "      <th>hit</th>\n",
       "      <th>ndcg</th>\n",
       "      <th>recip_rank</th>\n",
       "      <th>ntruth</th>\n",
       "    </tr>\n",
       "    <tr>\n",
       "      <th>algo</th>\n",
       "      <th>parts</th>\n",
       "      <th>set</th>\n",
       "      <th>user</th>\n",
       "      <th></th>\n",
       "      <th></th>\n",
       "      <th></th>\n",
       "      <th></th>\n",
       "      <th></th>\n",
       "    </tr>\n",
       "  </thead>\n",
       "  <tbody>\n",
       "    <tr>\n",
       "      <th rowspan=\"5\" valign=\"top\">base</th>\n",
       "      <th rowspan=\"5\" valign=\"top\">NA</th>\n",
       "      <th rowspan=\"5\" valign=\"top\">dev</th>\n",
       "      <th>6046878</th>\n",
       "      <td>100.0</td>\n",
       "      <td>1.0</td>\n",
       "      <td>0.086348</td>\n",
       "      <td>0.166667</td>\n",
       "      <td>13</td>\n",
       "    </tr>\n",
       "    <tr>\n",
       "      <th>117918</th>\n",
       "      <td>100.0</td>\n",
       "      <td>1.0</td>\n",
       "      <td>0.255958</td>\n",
       "      <td>0.066667</td>\n",
       "      <td>1</td>\n",
       "    </tr>\n",
       "    <tr>\n",
       "      <th>4665144</th>\n",
       "      <td>100.0</td>\n",
       "      <td>1.0</td>\n",
       "      <td>0.333333</td>\n",
       "      <td>0.125000</td>\n",
       "      <td>3</td>\n",
       "    </tr>\n",
       "    <tr>\n",
       "      <th>3385905</th>\n",
       "      <td>100.0</td>\n",
       "      <td>0.0</td>\n",
       "      <td>0.000000</td>\n",
       "      <td>0.000000</td>\n",
       "      <td>1</td>\n",
       "    </tr>\n",
       "    <tr>\n",
       "      <th>2896080</th>\n",
       "      <td>100.0</td>\n",
       "      <td>0.0</td>\n",
       "      <td>0.000000</td>\n",
       "      <td>0.000000</td>\n",
       "      <td>1</td>\n",
       "    </tr>\n",
       "    <tr>\n",
       "      <th>...</th>\n",
       "      <th>...</th>\n",
       "      <th>...</th>\n",
       "      <th>...</th>\n",
       "      <td>...</td>\n",
       "      <td>...</td>\n",
       "      <td>...</td>\n",
       "      <td>...</td>\n",
       "      <td>...</td>\n",
       "    </tr>\n",
       "    <tr>\n",
       "      <th rowspan=\"5\" valign=\"top\">hybrid</th>\n",
       "      <th rowspan=\"5\" valign=\"top\">NA</th>\n",
       "      <th rowspan=\"5\" valign=\"top\">eval</th>\n",
       "      <th>6229490</th>\n",
       "      <td>0.0</td>\n",
       "      <td>NaN</td>\n",
       "      <td>NaN</td>\n",
       "      <td>NaN</td>\n",
       "      <td>3</td>\n",
       "    </tr>\n",
       "    <tr>\n",
       "      <th>6229534</th>\n",
       "      <td>0.0</td>\n",
       "      <td>NaN</td>\n",
       "      <td>NaN</td>\n",
       "      <td>NaN</td>\n",
       "      <td>3</td>\n",
       "    </tr>\n",
       "    <tr>\n",
       "      <th>6229876</th>\n",
       "      <td>0.0</td>\n",
       "      <td>NaN</td>\n",
       "      <td>NaN</td>\n",
       "      <td>NaN</td>\n",
       "      <td>3</td>\n",
       "    </tr>\n",
       "    <tr>\n",
       "      <th>6230173</th>\n",
       "      <td>0.0</td>\n",
       "      <td>NaN</td>\n",
       "      <td>NaN</td>\n",
       "      <td>NaN</td>\n",
       "      <td>2</td>\n",
       "    </tr>\n",
       "    <tr>\n",
       "      <th>6230389</th>\n",
       "      <td>0.0</td>\n",
       "      <td>NaN</td>\n",
       "      <td>NaN</td>\n",
       "      <td>NaN</td>\n",
       "      <td>2</td>\n",
       "    </tr>\n",
       "  </tbody>\n",
       "</table>\n",
       "<p>400000 rows × 5 columns</p>\n",
       "</div>"
      ],
      "text/plain": [
       "                           nrecs  hit      ndcg  recip_rank  ntruth\n",
       "algo   parts set  user                                             \n",
       "base   NA    dev  6046878  100.0  1.0  0.086348    0.166667      13\n",
       "                  117918   100.0  1.0  0.255958    0.066667       1\n",
       "                  4665144  100.0  1.0  0.333333    0.125000       3\n",
       "                  3385905  100.0  0.0  0.000000    0.000000       1\n",
       "                  2896080  100.0  0.0  0.000000    0.000000       1\n",
       "...                          ...  ...       ...         ...     ...\n",
       "hybrid NA    eval 6229490    0.0  NaN       NaN         NaN       3\n",
       "                  6229534    0.0  NaN       NaN         NaN       3\n",
       "                  6229876    0.0  NaN       NaN         NaN       3\n",
       "                  6230173    0.0  NaN       NaN         NaN       2\n",
       "                  6230389    0.0  NaN       NaN         NaN       2\n",
       "\n",
       "[400000 rows x 5 columns]"
      ]
     },
     "execution_count": 32,
     "metadata": {},
     "output_type": "execute_result"
    }
   ],
   "source": [
    "recs = pd.concat(recs, names=['algo', 'parts', 'set']).reset_index(['algo', 'parts', 'set']).reset_index(drop=True)\n",
    "scores = rla.compute(recs, pd.concat([dev_test, eval_test], ignore_index=True), include_missing=True)\n",
    "scores"
   ]
  },
  {
   "cell_type": "code",
   "execution_count": 33,
   "id": "d4885cdc",
   "metadata": {},
   "outputs": [],
   "source": [
    "scores = scores.reset_index()"
   ]
  },
  {
   "cell_type": "code",
   "execution_count": 34,
   "id": "0d0078f7",
   "metadata": {},
   "outputs": [
    {
     "data": {
      "image/png": "[encoded data removed]",
      "text/plain": [
       "<Figure size 500x500 with 1 Axes>"
      ]
     },
     "metadata": {},
     "output_type": "display_data"
    }
   ],
   "source": [
    "sns.color_palette(\"Set2\")\n",
    "sns.catplot(scores, x='algo', y='ndcg', kind='bar')\n",
    "plt.xlabel('Algorithm')\n",
    "plt.ylabel('nDCG')\n",
    "plt.title('Algorithm Component Performance')\n",
    "plt.show()"
   ]
  },
  {
   "cell_type": "code",
   "execution_count": 35,
   "id": "4744ac03",
   "metadata": {},
   "outputs": [
    {
     "data": {
      "image/png": "[encoded data removed]",
      "text/plain": [
       "<Figure size 579.25x500 with 1 Axes>"
      ]
     },
     "metadata": {},
     "output_type": "display_data"
    }
   ],
   "source": [
    "sns.catplot(scores, x='algo', y='recip_rank', hue='set', kind='bar')\n",
    "plt.xlabel('Algorithm')\n",
    "plt.ylabel('MRR')\n",
    "plt.title('Algorithm Component Performance')\n",
    "plt.show()"
   ]
  },
  {
   "cell_type": "code",
   "execution_count": 36,
   "id": "93a10ed4",
   "metadata": {},
   "outputs": [
    {
     "data": {
      "image/png": "[encoded data removed]",
      "text/plain": [
       "<Figure size 579.25x500 with 1 Axes>"
      ]
     },
     "metadata": {},
     "output_type": "display_data"
    }
   ],
   "source": [
    "sns.catplot(scores, x='algo', y='hit', hue='set', kind='bar')\n",
    "plt.xlabel('Algorithm')\n",
    "plt.ylabel('Hit Rate')\n",
    "plt.title('Algorithm Component Performance')\n",
    "plt.show()"
   ]
  },
  {
   "cell_type": "markdown",
   "id": "df8752d8",
   "metadata": {},
   "source": [
    "Since the devlopers does not cover all games in the dataset, it looks like it provides very little improvement from the base model. However, adding genres definetly provides better accuracy making it very close to the combined model. "
   ]
  },
  {
   "cell_type": "markdown",
   "id": "5317bad2",
   "metadata": {},
   "source": [
    "### Final Comparison"
   ]
  },
  {
   "cell_type": "markdown",
   "id": "6a591888",
   "metadata": {},
   "source": [
    "Since the hybrid model is now tuned using 70 features, 5 epochs, and 0.1 regularization, we can now evaluate it in comparison to the other algorithms."
   ]
  },
  {
   "cell_type": "code",
   "execution_count": 7,
   "id": "6a3c68c7",
   "metadata": {},
   "outputs": [],
   "source": [
    "recs = {}\n",
    "_hy_re = re.compile(r'^hybrid-(.*)-(.*)-(dev|eval)\\.parquet')\n",
    "_algo_re = re.compile(r'^(.*)-(dev|eval)\\.parquet')\n",
    "for file in Path('recs').glob('*.parquet'):\n",
    "    hm = _hy_re.match(file.name)\n",
    "    am = _algo_re.match(file.name)\n",
    "    if hm:\n",
    "        key = hm.group(1), hm.group(2), hm.group(3)\n",
    "    elif am:\n",
    "        key = am.group(1), 'NA', am.group(2)\n",
    "    else:\n",
    "        raise ValueError(f'bad name {file.name}')\n",
    "    recs[key] = pd.read_parquet(file)"
   ]
  },
  {
   "cell_type": "code",
   "execution_count": 8,
   "id": "eaf584be",
   "metadata": {},
   "outputs": [
    {
     "data": {
      "text/html": [
       "<div>\n",
       "<style scoped>\n",
       "    .dataframe tbody tr th:only-of-type {\n",
       "        vertical-align: middle;\n",
       "    }\n",
       "\n",
       "    .dataframe tbody tr th {\n",
       "        vertical-align: top;\n",
       "    }\n",
       "\n",
       "    .dataframe thead th {\n",
       "        text-align: right;\n",
       "    }\n",
       "</style>\n",
       "<table border=\"1\" class=\"dataframe\">\n",
       "  <thead>\n",
       "    <tr style=\"text-align: right;\">\n",
       "      <th></th>\n",
       "      <th>algo</th>\n",
       "      <th>parts</th>\n",
       "      <th>set</th>\n",
       "      <th>item</th>\n",
       "      <th>score</th>\n",
       "      <th>user</th>\n",
       "      <th>rank</th>\n",
       "    </tr>\n",
       "  </thead>\n",
       "  <tbody>\n",
       "    <tr>\n",
       "      <th>0</th>\n",
       "      <td>als</td>\n",
       "      <td>NA</td>\n",
       "      <td>dev</td>\n",
       "      <td>1817070</td>\n",
       "      <td>1.022360</td>\n",
       "      <td>6046878</td>\n",
       "      <td>1</td>\n",
       "    </tr>\n",
       "    <tr>\n",
       "      <th>1</th>\n",
       "      <td>als</td>\n",
       "      <td>NA</td>\n",
       "      <td>dev</td>\n",
       "      <td>638230</td>\n",
       "      <td>0.751450</td>\n",
       "      <td>6046878</td>\n",
       "      <td>2</td>\n",
       "    </tr>\n",
       "    <tr>\n",
       "      <th>2</th>\n",
       "      <td>als</td>\n",
       "      <td>NA</td>\n",
       "      <td>dev</td>\n",
       "      <td>289070</td>\n",
       "      <td>0.678516</td>\n",
       "      <td>6046878</td>\n",
       "      <td>3</td>\n",
       "    </tr>\n",
       "    <tr>\n",
       "      <th>3</th>\n",
       "      <td>als</td>\n",
       "      <td>NA</td>\n",
       "      <td>dev</td>\n",
       "      <td>221640</td>\n",
       "      <td>0.674147</td>\n",
       "      <td>6046878</td>\n",
       "      <td>4</td>\n",
       "    </tr>\n",
       "    <tr>\n",
       "      <th>4</th>\n",
       "      <td>als</td>\n",
       "      <td>NA</td>\n",
       "      <td>dev</td>\n",
       "      <td>1237320</td>\n",
       "      <td>0.660348</td>\n",
       "      <td>6046878</td>\n",
       "      <td>5</td>\n",
       "    </tr>\n",
       "    <tr>\n",
       "      <th>...</th>\n",
       "      <td>...</td>\n",
       "      <td>...</td>\n",
       "      <td>...</td>\n",
       "      <td>...</td>\n",
       "      <td>...</td>\n",
       "      <td>...</td>\n",
       "      <td>...</td>\n",
       "    </tr>\n",
       "    <tr>\n",
       "      <th>24999995</th>\n",
       "      <td>Tuned</td>\n",
       "      <td>NA</td>\n",
       "      <td>eval</td>\n",
       "      <td>1313140</td>\n",
       "      <td>-0.567897</td>\n",
       "      <td>568985</td>\n",
       "      <td>96</td>\n",
       "    </tr>\n",
       "    <tr>\n",
       "      <th>24999996</th>\n",
       "      <td>Tuned</td>\n",
       "      <td>NA</td>\n",
       "      <td>eval</td>\n",
       "      <td>1259420</td>\n",
       "      <td>-0.583333</td>\n",
       "      <td>568985</td>\n",
       "      <td>97</td>\n",
       "    </tr>\n",
       "    <tr>\n",
       "      <th>24999997</th>\n",
       "      <td>Tuned</td>\n",
       "      <td>NA</td>\n",
       "      <td>eval</td>\n",
       "      <td>323190</td>\n",
       "      <td>-0.586760</td>\n",
       "      <td>568985</td>\n",
       "      <td>98</td>\n",
       "    </tr>\n",
       "    <tr>\n",
       "      <th>24999998</th>\n",
       "      <td>Tuned</td>\n",
       "      <td>NA</td>\n",
       "      <td>eval</td>\n",
       "      <td>1466860</td>\n",
       "      <td>-0.600091</td>\n",
       "      <td>568985</td>\n",
       "      <td>99</td>\n",
       "    </tr>\n",
       "    <tr>\n",
       "      <th>24999999</th>\n",
       "      <td>Tuned</td>\n",
       "      <td>NA</td>\n",
       "      <td>eval</td>\n",
       "      <td>489830</td>\n",
       "      <td>-0.627545</td>\n",
       "      <td>568985</td>\n",
       "      <td>100</td>\n",
       "    </tr>\n",
       "  </tbody>\n",
       "</table>\n",
       "<p>25000000 rows × 7 columns</p>\n",
       "</div>"
      ],
      "text/plain": [
       "           algo parts   set     item     score     user  rank\n",
       "0           als    NA   dev  1817070  1.022360  6046878     1\n",
       "1           als    NA   dev   638230  0.751450  6046878     2\n",
       "2           als    NA   dev   289070  0.678516  6046878     3\n",
       "3           als    NA   dev   221640  0.674147  6046878     4\n",
       "4           als    NA   dev  1237320  0.660348  6046878     5\n",
       "...         ...   ...   ...      ...       ...      ...   ...\n",
       "24999995  Tuned    NA  eval  1313140 -0.567897   568985    96\n",
       "24999996  Tuned    NA  eval  1259420 -0.583333   568985    97\n",
       "24999997  Tuned    NA  eval   323190 -0.586760   568985    98\n",
       "24999998  Tuned    NA  eval  1466860 -0.600091   568985    99\n",
       "24999999  Tuned    NA  eval   489830 -0.627545   568985   100\n",
       "\n",
       "[25000000 rows x 7 columns]"
      ]
     },
     "execution_count": 8,
     "metadata": {},
     "output_type": "execute_result"
    }
   ],
   "source": [
    "recs = pd.concat(recs, names=['algo', 'parts', 'set']).reset_index(['algo', 'parts', 'set']).reset_index(drop=True)\n",
    "recs"
   ]
  },
  {
   "cell_type": "markdown",
   "id": "f866d240",
   "metadata": {},
   "source": [
    "#### Computing Metrics"
   ]
  },
  {
   "cell_type": "code",
   "execution_count": 39,
   "id": "841838e3",
   "metadata": {},
   "outputs": [
    {
     "data": {
      "text/html": [
       "<div>\n",
       "<style scoped>\n",
       "    .dataframe tbody tr th:only-of-type {\n",
       "        vertical-align: middle;\n",
       "    }\n",
       "\n",
       "    .dataframe tbody tr th {\n",
       "        vertical-align: top;\n",
       "    }\n",
       "\n",
       "    .dataframe thead th {\n",
       "        text-align: right;\n",
       "    }\n",
       "</style>\n",
       "<table border=\"1\" class=\"dataframe\">\n",
       "  <thead>\n",
       "    <tr style=\"text-align: right;\">\n",
       "      <th></th>\n",
       "      <th></th>\n",
       "      <th></th>\n",
       "      <th></th>\n",
       "      <th>nrecs</th>\n",
       "      <th>hit</th>\n",
       "      <th>ndcg</th>\n",
       "      <th>recip_rank</th>\n",
       "      <th>ntruth</th>\n",
       "    </tr>\n",
       "    <tr>\n",
       "      <th>algo</th>\n",
       "      <th>parts</th>\n",
       "      <th>set</th>\n",
       "      <th>user</th>\n",
       "      <th></th>\n",
       "      <th></th>\n",
       "      <th></th>\n",
       "      <th></th>\n",
       "      <th></th>\n",
       "    </tr>\n",
       "  </thead>\n",
       "  <tbody>\n",
       "    <tr>\n",
       "      <th rowspan=\"5\" valign=\"top\">Tuned</th>\n",
       "      <th rowspan=\"5\" valign=\"top\">NA</th>\n",
       "      <th rowspan=\"5\" valign=\"top\">dev</th>\n",
       "      <th>6046878</th>\n",
       "      <td>100.0</td>\n",
       "      <td>1.0</td>\n",
       "      <td>0.093111</td>\n",
       "      <td>0.125000</td>\n",
       "      <td>13</td>\n",
       "    </tr>\n",
       "    <tr>\n",
       "      <th>117918</th>\n",
       "      <td>100.0</td>\n",
       "      <td>1.0</td>\n",
       "      <td>0.224244</td>\n",
       "      <td>0.045455</td>\n",
       "      <td>1</td>\n",
       "    </tr>\n",
       "    <tr>\n",
       "      <th>4665144</th>\n",
       "      <td>100.0</td>\n",
       "      <td>1.0</td>\n",
       "      <td>0.315465</td>\n",
       "      <td>0.111111</td>\n",
       "      <td>3</td>\n",
       "    </tr>\n",
       "    <tr>\n",
       "      <th>3385905</th>\n",
       "      <td>100.0</td>\n",
       "      <td>0.0</td>\n",
       "      <td>0.000000</td>\n",
       "      <td>0.000000</td>\n",
       "      <td>1</td>\n",
       "    </tr>\n",
       "    <tr>\n",
       "      <th>2896080</th>\n",
       "      <td>100.0</td>\n",
       "      <td>1.0</td>\n",
       "      <td>0.155611</td>\n",
       "      <td>0.011628</td>\n",
       "      <td>1</td>\n",
       "    </tr>\n",
       "    <tr>\n",
       "      <th>...</th>\n",
       "      <th>...</th>\n",
       "      <th>...</th>\n",
       "      <th>...</th>\n",
       "      <td>...</td>\n",
       "      <td>...</td>\n",
       "      <td>...</td>\n",
       "      <td>...</td>\n",
       "      <td>...</td>\n",
       "    </tr>\n",
       "    <tr>\n",
       "      <th rowspan=\"5\" valign=\"top\">pop</th>\n",
       "      <th rowspan=\"5\" valign=\"top\">NA</th>\n",
       "      <th rowspan=\"5\" valign=\"top\">eval</th>\n",
       "      <th>6229490</th>\n",
       "      <td>0.0</td>\n",
       "      <td>NaN</td>\n",
       "      <td>NaN</td>\n",
       "      <td>NaN</td>\n",
       "      <td>3</td>\n",
       "    </tr>\n",
       "    <tr>\n",
       "      <th>6229534</th>\n",
       "      <td>0.0</td>\n",
       "      <td>NaN</td>\n",
       "      <td>NaN</td>\n",
       "      <td>NaN</td>\n",
       "      <td>3</td>\n",
       "    </tr>\n",
       "    <tr>\n",
       "      <th>6229876</th>\n",
       "      <td>0.0</td>\n",
       "      <td>NaN</td>\n",
       "      <td>NaN</td>\n",
       "      <td>NaN</td>\n",
       "      <td>3</td>\n",
       "    </tr>\n",
       "    <tr>\n",
       "      <th>6230173</th>\n",
       "      <td>0.0</td>\n",
       "      <td>NaN</td>\n",
       "      <td>NaN</td>\n",
       "      <td>NaN</td>\n",
       "      <td>2</td>\n",
       "    </tr>\n",
       "    <tr>\n",
       "      <th>6230389</th>\n",
       "      <td>0.0</td>\n",
       "      <td>NaN</td>\n",
       "      <td>NaN</td>\n",
       "      <td>NaN</td>\n",
       "      <td>2</td>\n",
       "    </tr>\n",
       "  </tbody>\n",
       "</table>\n",
       "<p>500000 rows × 5 columns</p>\n",
       "</div>"
      ],
      "text/plain": [
       "                          nrecs  hit      ndcg  recip_rank  ntruth\n",
       "algo  parts set  user                                             \n",
       "Tuned NA    dev  6046878  100.0  1.0  0.093111    0.125000      13\n",
       "                 117918   100.0  1.0  0.224244    0.045455       1\n",
       "                 4665144  100.0  1.0  0.315465    0.111111       3\n",
       "                 3385905  100.0  0.0  0.000000    0.000000       1\n",
       "                 2896080  100.0  1.0  0.155611    0.011628       1\n",
       "...                         ...  ...       ...         ...     ...\n",
       "pop   NA    eval 6229490    0.0  NaN       NaN         NaN       3\n",
       "                 6229534    0.0  NaN       NaN         NaN       3\n",
       "                 6229876    0.0  NaN       NaN         NaN       3\n",
       "                 6230173    0.0  NaN       NaN         NaN       2\n",
       "                 6230389    0.0  NaN       NaN         NaN       2\n",
       "\n",
       "[500000 rows x 5 columns]"
      ]
     },
     "execution_count": 39,
     "metadata": {},
     "output_type": "execute_result"
    }
   ],
   "source": [
    "scores = rla.compute(recs, pd.concat([dev_test, eval_test], ignore_index=True), include_missing=True)\n",
    "scores"
   ]
  },
  {
   "cell_type": "code",
   "execution_count": 40,
   "id": "336eaa03",
   "metadata": {},
   "outputs": [],
   "source": [
    "scores = scores.reset_index()"
   ]
  },
  {
   "cell_type": "markdown",
   "id": "b895a51c",
   "metadata": {},
   "source": [
    "#### Results\n",
    "**nDCG**"
   ]
  },
  {
   "cell_type": "code",
   "execution_count": 41,
   "id": "e5c06daf",
   "metadata": {},
   "outputs": [
    {
     "data": {
      "image/png": "[encoded data removed]",
      "text/plain": [
       "<Figure size 500x500 with 1 Axes>"
      ]
     },
     "metadata": {},
     "output_type": "display_data"
    }
   ],
   "source": [
    "sns.color_palette(\"Set2\")\n",
    "sns.catplot(scores, x='algo', y='ndcg', kind='bar')\n",
    "plt.xlabel('Algorithm')\n",
    "plt.ylabel('nDCG')\n",
    "plt.title('Algorithm Performance')\n",
    "plt.show()"
   ]
  },
  {
   "cell_type": "markdown",
   "id": "9b9b4509",
   "metadata": {},
   "source": [
    "**MRR**"
   ]
  },
  {
   "cell_type": "code",
   "execution_count": 42,
   "id": "cca00da5",
   "metadata": {},
   "outputs": [
    {
     "data": {
      "image/png": "[encoded data removed]",
      "text/plain": [
       "<Figure size 579.25x500 with 1 Axes>"
      ]
     },
     "metadata": {},
     "output_type": "display_data"
    }
   ],
   "source": [
    "sns.catplot(scores, x='algo', y='recip_rank', hue='set', kind='bar')\n",
    "plt.xlabel('Algorithm')\n",
    "plt.ylabel('MRR')\n",
    "plt.title('Algorithm Performance')\n",
    "plt.show()"
   ]
  },
  {
   "cell_type": "markdown",
   "id": "40fe51ba",
   "metadata": {},
   "source": [
    "**Hit Rate**"
   ]
  },
  {
   "cell_type": "code",
   "execution_count": 43,
   "id": "8783a5f9",
   "metadata": {},
   "outputs": [
    {
     "data": {
      "image/png": "[encoded data removed]",
      "text/plain": [
       "<Figure size 579.25x500 with 1 Axes>"
      ]
     },
     "metadata": {},
     "output_type": "display_data"
    }
   ],
   "source": [
    "sns.catplot(scores, x='algo', y='hit', hue='set', kind='bar')\n",
    "plt.xlabel('Algorithm')\n",
    "plt.ylabel('Hit Rate')\n",
    "plt.title('Algorithm Performance')\n",
    "plt.show()"
   ]
  },
  {
   "cell_type": "markdown",
   "id": "dd541202",
   "metadata": {},
   "source": [
    "Altogether, the tuned hybridMF algorithm looks to be performing the best in all metrics. In contrast, Bias using the wieghted ratings looks to be performing the worst. This is possibly because the weighted scale may put too much emphasis on the hours played compared to whether the game is recommended or not."
   ]
  },
  {
   "cell_type": "code",
   "execution_count": 33,
   "id": "ad5bb39d",
   "metadata": {},
   "outputs": [],
   "source": [
    "metadata = pd.read_json('data/games_metadata.json', lines=True)\n",
    "metadata = metadata.drop(['description'], axis=1)\n",
    "metadata = metadata.rename(columns={'app_id':'item', 'tags':'genre'})"
   ]
  },
  {
   "cell_type": "code",
   "execution_count": 39,
   "id": "2d4ad655",
   "metadata": {},
   "outputs": [],
   "source": [
    "ratings = pd.read_parquet('data/ratings.parquet')\n",
    "ratings = ratings[ratings['user'] == 6046878]\n",
    "ratings = pd.merge(ratings, games, on='item', how='inner')\n",
    "ratings = pd.merge(metadata, ratings, on='item', how='inner')"
   ]
  },
  {
   "cell_type": "code",
   "execution_count": 35,
   "id": "8eca248e",
   "metadata": {},
   "outputs": [],
   "source": [
    "games = pd.read_csv('data/games.csv')\n",
    "games = games[['app_id','title']]\n",
    "games = games.rename(columns={'app_id':'item'})"
   ]
  },
  {
   "cell_type": "code",
   "execution_count": 36,
   "id": "505c9504",
   "metadata": {},
   "outputs": [],
   "source": [
    "user_recs = recs[recs['algo'] == 'Tuned']\n",
    "user_recs = user_recs[user_recs['user'] == 6046878]\n",
    "user_recs = pd.merge(user_recs, games, on='item', how='inner')\n",
    "user_recs = pd.merge(user_recs, metadata, on='item', how='inner')"
   ]
  },
  {
   "cell_type": "code",
   "execution_count": 37,
   "id": "88db2c7b",
   "metadata": {},
   "outputs": [
    {
     "data": {
      "text/html": [
       "<div>\n",
       "<style scoped>\n",
       "    .dataframe tbody tr th:only-of-type {\n",
       "        vertical-align: middle;\n",
       "    }\n",
       "\n",
       "    .dataframe tbody tr th {\n",
       "        vertical-align: top;\n",
       "    }\n",
       "\n",
       "    .dataframe thead th {\n",
       "        text-align: right;\n",
       "    }\n",
       "</style>\n",
       "<table border=\"1\" class=\"dataframe\">\n",
       "  <thead>\n",
       "    <tr style=\"text-align: right;\">\n",
       "      <th></th>\n",
       "      <th>algo</th>\n",
       "      <th>parts</th>\n",
       "      <th>set</th>\n",
       "      <th>item</th>\n",
       "      <th>score</th>\n",
       "      <th>user</th>\n",
       "      <th>rank</th>\n",
       "      <th>title</th>\n",
       "      <th>genre</th>\n",
       "    </tr>\n",
       "  </thead>\n",
       "  <tbody>\n",
       "    <tr>\n",
       "      <th>0</th>\n",
       "      <td>Tuned</td>\n",
       "      <td>NA</td>\n",
       "      <td>dev</td>\n",
       "      <td>225540</td>\n",
       "      <td>4.593040</td>\n",
       "      <td>6046878</td>\n",
       "      <td>1</td>\n",
       "      <td>Just Cause™ 3</td>\n",
       "      <td>[Open World, Action, Destruction, Third-Person...</td>\n",
       "    </tr>\n",
       "    <tr>\n",
       "      <th>1</th>\n",
       "      <td>Tuned</td>\n",
       "      <td>NA</td>\n",
       "      <td>dev</td>\n",
       "      <td>271590</td>\n",
       "      <td>4.531921</td>\n",
       "      <td>6046878</td>\n",
       "      <td>2</td>\n",
       "      <td>Grand Theft Auto V</td>\n",
       "      <td>[Open World, Action, Multiplayer, Crime, Autom...</td>\n",
       "    </tr>\n",
       "    <tr>\n",
       "      <th>2</th>\n",
       "      <td>Tuned</td>\n",
       "      <td>NA</td>\n",
       "      <td>dev</td>\n",
       "      <td>477160</td>\n",
       "      <td>4.012294</td>\n",
       "      <td>6046878</td>\n",
       "      <td>3</td>\n",
       "      <td>Human: Fall Flat</td>\n",
       "      <td>[Co-op, Funny, Puzzle, Adventure, Physics, San...</td>\n",
       "    </tr>\n",
       "    <tr>\n",
       "      <th>3</th>\n",
       "      <td>Tuned</td>\n",
       "      <td>NA</td>\n",
       "      <td>dev</td>\n",
       "      <td>1174180</td>\n",
       "      <td>3.603474</td>\n",
       "      <td>6046878</td>\n",
       "      <td>4</td>\n",
       "      <td>Red Dead Redemption 2</td>\n",
       "      <td>[Open World, Story Rich, Adventure, Western, A...</td>\n",
       "    </tr>\n",
       "    <tr>\n",
       "      <th>4</th>\n",
       "      <td>Tuned</td>\n",
       "      <td>NA</td>\n",
       "      <td>dev</td>\n",
       "      <td>431960</td>\n",
       "      <td>3.571382</td>\n",
       "      <td>6046878</td>\n",
       "      <td>5</td>\n",
       "      <td>Wallpaper Engine</td>\n",
       "      <td>[Mature, Utilities, Software, Anime, Design &amp; ...</td>\n",
       "    </tr>\n",
       "    <tr>\n",
       "      <th>...</th>\n",
       "      <td>...</td>\n",
       "      <td>...</td>\n",
       "      <td>...</td>\n",
       "      <td>...</td>\n",
       "      <td>...</td>\n",
       "      <td>...</td>\n",
       "      <td>...</td>\n",
       "      <td>...</td>\n",
       "      <td>...</td>\n",
       "    </tr>\n",
       "    <tr>\n",
       "      <th>95</th>\n",
       "      <td>Tuned</td>\n",
       "      <td>NA</td>\n",
       "      <td>dev</td>\n",
       "      <td>501300</td>\n",
       "      <td>0.659129</td>\n",
       "      <td>6046878</td>\n",
       "      <td>96</td>\n",
       "      <td>What Remains of Edith Finch</td>\n",
       "      <td>[Story Rich, Atmospheric, Walking Simulator, F...</td>\n",
       "    </tr>\n",
       "    <tr>\n",
       "      <th>96</th>\n",
       "      <td>Tuned</td>\n",
       "      <td>NA</td>\n",
       "      <td>dev</td>\n",
       "      <td>1089980</td>\n",
       "      <td>0.654904</td>\n",
       "      <td>6046878</td>\n",
       "      <td>97</td>\n",
       "      <td>The Henry Stickmin Collection</td>\n",
       "      <td>[Funny, Multiple Endings, Choose Your Own Adve...</td>\n",
       "    </tr>\n",
       "    <tr>\n",
       "      <th>97</th>\n",
       "      <td>Tuned</td>\n",
       "      <td>NA</td>\n",
       "      <td>dev</td>\n",
       "      <td>690790</td>\n",
       "      <td>0.640367</td>\n",
       "      <td>6046878</td>\n",
       "      <td>98</td>\n",
       "      <td>DiRT Rally 2.0</td>\n",
       "      <td>[Racing, Automobile Sim, Simulation, Multiplay...</td>\n",
       "    </tr>\n",
       "    <tr>\n",
       "      <th>98</th>\n",
       "      <td>Tuned</td>\n",
       "      <td>NA</td>\n",
       "      <td>dev</td>\n",
       "      <td>1092790</td>\n",
       "      <td>0.627474</td>\n",
       "      <td>6046878</td>\n",
       "      <td>99</td>\n",
       "      <td>Inscryption</td>\n",
       "      <td>[Card Battler, Card Game, Story Rich, Deckbuil...</td>\n",
       "    </tr>\n",
       "    <tr>\n",
       "      <th>99</th>\n",
       "      <td>Tuned</td>\n",
       "      <td>NA</td>\n",
       "      <td>dev</td>\n",
       "      <td>1313140</td>\n",
       "      <td>0.601813</td>\n",
       "      <td>6046878</td>\n",
       "      <td>100</td>\n",
       "      <td>Cult of the Lamb</td>\n",
       "      <td>[Character Customization, Base Building, Cute,...</td>\n",
       "    </tr>\n",
       "  </tbody>\n",
       "</table>\n",
       "<p>100 rows × 9 columns</p>\n",
       "</div>"
      ],
      "text/plain": [
       "     algo parts  set     item     score     user  rank  \\\n",
       "0   Tuned    NA  dev   225540  4.593040  6046878     1   \n",
       "1   Tuned    NA  dev   271590  4.531921  6046878     2   \n",
       "2   Tuned    NA  dev   477160  4.012294  6046878     3   \n",
       "3   Tuned    NA  dev  1174180  3.603474  6046878     4   \n",
       "4   Tuned    NA  dev   431960  3.571382  6046878     5   \n",
       "..    ...   ...  ...      ...       ...      ...   ...   \n",
       "95  Tuned    NA  dev   501300  0.659129  6046878    96   \n",
       "96  Tuned    NA  dev  1089980  0.654904  6046878    97   \n",
       "97  Tuned    NA  dev   690790  0.640367  6046878    98   \n",
       "98  Tuned    NA  dev  1092790  0.627474  6046878    99   \n",
       "99  Tuned    NA  dev  1313140  0.601813  6046878   100   \n",
       "\n",
       "                            title  \\\n",
       "0                   Just Cause™ 3   \n",
       "1              Grand Theft Auto V   \n",
       "2                Human: Fall Flat   \n",
       "3           Red Dead Redemption 2   \n",
       "4                Wallpaper Engine   \n",
       "..                            ...   \n",
       "95    What Remains of Edith Finch   \n",
       "96  The Henry Stickmin Collection   \n",
       "97                 DiRT Rally 2.0   \n",
       "98                    Inscryption   \n",
       "99               Cult of the Lamb   \n",
       "\n",
       "                                                genre  \n",
       "0   [Open World, Action, Destruction, Third-Person...  \n",
       "1   [Open World, Action, Multiplayer, Crime, Autom...  \n",
       "2   [Co-op, Funny, Puzzle, Adventure, Physics, San...  \n",
       "3   [Open World, Story Rich, Adventure, Western, A...  \n",
       "4   [Mature, Utilities, Software, Anime, Design & ...  \n",
       "..                                                ...  \n",
       "95  [Story Rich, Atmospheric, Walking Simulator, F...  \n",
       "96  [Funny, Multiple Endings, Choose Your Own Adve...  \n",
       "97  [Racing, Automobile Sim, Simulation, Multiplay...  \n",
       "98  [Card Battler, Card Game, Story Rich, Deckbuil...  \n",
       "99  [Character Customization, Base Building, Cute,...  \n",
       "\n",
       "[100 rows x 9 columns]"
      ]
     },
     "execution_count": 37,
     "metadata": {},
     "output_type": "execute_result"
    }
   ],
   "source": [
    "user_recs"
   ]
  },
  {
   "cell_type": "code",
   "execution_count": 40,
   "id": "a21e0297",
   "metadata": {},
   "outputs": [
    {
     "data": {
      "text/html": [
       "<div>\n",
       "<style scoped>\n",
       "    .dataframe tbody tr th:only-of-type {\n",
       "        vertical-align: middle;\n",
       "    }\n",
       "\n",
       "    .dataframe tbody tr th {\n",
       "        vertical-align: top;\n",
       "    }\n",
       "\n",
       "    .dataframe thead th {\n",
       "        text-align: right;\n",
       "    }\n",
       "</style>\n",
       "<table border=\"1\" class=\"dataframe\">\n",
       "  <thead>\n",
       "    <tr style=\"text-align: right;\">\n",
       "      <th></th>\n",
       "      <th>item</th>\n",
       "      <th>genre</th>\n",
       "      <th>user</th>\n",
       "      <th>rating</th>\n",
       "      <th>title</th>\n",
       "    </tr>\n",
       "  </thead>\n",
       "  <tbody>\n",
       "    <tr>\n",
       "      <th>0</th>\n",
       "      <td>524220</td>\n",
       "      <td>[Great Soundtrack, Story Rich, Female Protagon...</td>\n",
       "      <td>6046878</td>\n",
       "      <td>2</td>\n",
       "      <td>NieR:Automata™</td>\n",
       "    </tr>\n",
       "    <tr>\n",
       "      <th>1</th>\n",
       "      <td>854940</td>\n",
       "      <td>[Indie, RPG, LGBTQ+, Female Protagonist, Pixel...</td>\n",
       "      <td>6046878</td>\n",
       "      <td>2</td>\n",
       "      <td>Ikenfell</td>\n",
       "    </tr>\n",
       "    <tr>\n",
       "      <th>2</th>\n",
       "      <td>9900</td>\n",
       "      <td>[Free to Play, Sci-fi, Massively Multiplayer, ...</td>\n",
       "      <td>6046878</td>\n",
       "      <td>0</td>\n",
       "      <td>Star Trek Online</td>\n",
       "    </tr>\n",
       "    <tr>\n",
       "      <th>3</th>\n",
       "      <td>334940</td>\n",
       "      <td>[Pinball, Metroidvania, Adventure, Platformer,...</td>\n",
       "      <td>6046878</td>\n",
       "      <td>3</td>\n",
       "      <td>Yoku's Island Express</td>\n",
       "    </tr>\n",
       "    <tr>\n",
       "      <th>4</th>\n",
       "      <td>774361</td>\n",
       "      <td>[Metroidvania, Pixel Graphics, Souls-like, Gor...</td>\n",
       "      <td>6046878</td>\n",
       "      <td>3</td>\n",
       "      <td>Blasphemous</td>\n",
       "    </tr>\n",
       "    <tr>\n",
       "      <th>5</th>\n",
       "      <td>1222140</td>\n",
       "      <td>[Choices Matter, Story Rich, Multiple Endings,...</td>\n",
       "      <td>6046878</td>\n",
       "      <td>3</td>\n",
       "      <td>Detroit: Become Human</td>\n",
       "    </tr>\n",
       "    <tr>\n",
       "      <th>6</th>\n",
       "      <td>851670</td>\n",
       "      <td>[Casual, Indie, Puzzle, Music, Great Soundtrac...</td>\n",
       "      <td>6046878</td>\n",
       "      <td>5</td>\n",
       "      <td>LUMINES REMASTERED</td>\n",
       "    </tr>\n",
       "    <tr>\n",
       "      <th>7</th>\n",
       "      <td>233740</td>\n",
       "      <td>[Zombies, Indie, Retro, Strategy, Post-apocaly...</td>\n",
       "      <td>6046878</td>\n",
       "      <td>2</td>\n",
       "      <td>Organ Trail: Director's Cut</td>\n",
       "    </tr>\n",
       "    <tr>\n",
       "      <th>8</th>\n",
       "      <td>424840</td>\n",
       "      <td>[Horror, Atmospheric, Adventure, Singleplayer,...</td>\n",
       "      <td>6046878</td>\n",
       "      <td>3</td>\n",
       "      <td>Little Nightmares</td>\n",
       "    </tr>\n",
       "    <tr>\n",
       "      <th>9</th>\n",
       "      <td>916730</td>\n",
       "      <td>[Indie, Metroidvania, Action, Adventure, Pixel...</td>\n",
       "      <td>6046878</td>\n",
       "      <td>3</td>\n",
       "      <td>Gato Roboto</td>\n",
       "    </tr>\n",
       "    <tr>\n",
       "      <th>10</th>\n",
       "      <td>842910</td>\n",
       "      <td>[Gore, Female Protagonist, Indie, Puzzle Platf...</td>\n",
       "      <td>6046878</td>\n",
       "      <td>4</td>\n",
       "      <td>The MISSING: J.J. Macfield and the Island of M...</td>\n",
       "    </tr>\n",
       "    <tr>\n",
       "      <th>11</th>\n",
       "      <td>883710</td>\n",
       "      <td>[Zombies, Survival Horror, Horror, Remake, Sin...</td>\n",
       "      <td>6046878</td>\n",
       "      <td>2</td>\n",
       "      <td>Resident Evil 2</td>\n",
       "    </tr>\n",
       "    <tr>\n",
       "      <th>12</th>\n",
       "      <td>238960</td>\n",
       "      <td>[Free to Play, Action RPG, Hack and Slash, RPG...</td>\n",
       "      <td>6046878</td>\n",
       "      <td>2</td>\n",
       "      <td>Path of Exile</td>\n",
       "    </tr>\n",
       "  </tbody>\n",
       "</table>\n",
       "</div>"
      ],
      "text/plain": [
       "       item                                              genre     user  \\\n",
       "0    524220  [Great Soundtrack, Story Rich, Female Protagon...  6046878   \n",
       "1    854940  [Indie, RPG, LGBTQ+, Female Protagonist, Pixel...  6046878   \n",
       "2      9900  [Free to Play, Sci-fi, Massively Multiplayer, ...  6046878   \n",
       "3    334940  [Pinball, Metroidvania, Adventure, Platformer,...  6046878   \n",
       "4    774361  [Metroidvania, Pixel Graphics, Souls-like, Gor...  6046878   \n",
       "5   1222140  [Choices Matter, Story Rich, Multiple Endings,...  6046878   \n",
       "6    851670  [Casual, Indie, Puzzle, Music, Great Soundtrac...  6046878   \n",
       "7    233740  [Zombies, Indie, Retro, Strategy, Post-apocaly...  6046878   \n",
       "8    424840  [Horror, Atmospheric, Adventure, Singleplayer,...  6046878   \n",
       "9    916730  [Indie, Metroidvania, Action, Adventure, Pixel...  6046878   \n",
       "10   842910  [Gore, Female Protagonist, Indie, Puzzle Platf...  6046878   \n",
       "11   883710  [Zombies, Survival Horror, Horror, Remake, Sin...  6046878   \n",
       "12   238960  [Free to Play, Action RPG, Hack and Slash, RPG...  6046878   \n",
       "\n",
       "    rating                                              title  \n",
       "0        2                                     NieR:Automata™  \n",
       "1        2                                           Ikenfell  \n",
       "2        0                                   Star Trek Online  \n",
       "3        3                              Yoku's Island Express  \n",
       "4        3                                        Blasphemous  \n",
       "5        3                              Detroit: Become Human  \n",
       "6        5                                 LUMINES REMASTERED  \n",
       "7        2                        Organ Trail: Director's Cut  \n",
       "8        3                                  Little Nightmares  \n",
       "9        3                                        Gato Roboto  \n",
       "10       4  The MISSING: J.J. Macfield and the Island of M...  \n",
       "11       2                                    Resident Evil 2  \n",
       "12       2                                      Path of Exile  "
      ]
     },
     "execution_count": 40,
     "metadata": {},
     "output_type": "execute_result"
    }
   ],
   "source": [
    "ratings"
   ]
  },
  {
   "cell_type": "code",
   "execution_count": null,
   "id": "7ccce87d",
   "metadata": {},
   "outputs": [],
   "source": []
  }
 ],
 "metadata": {
  "kernelspec": {
   "display_name": "Python 3 (ipykernel)",
   "language": "python",
   "name": "python3"
  },
  "language_info": {
   "codemirror_mode": {
    "name": "ipython",
    "version": 3
   },
   "file_extension": ".py",
   "mimetype": "text/x-python",
   "name": "python",
   "nbconvert_exporter": "python",
   "pygments_lexer": "ipython3",
   "version": "3.10.9"
  }
 },
 "nbformat": 4,
 "nbformat_minor": 5
}
