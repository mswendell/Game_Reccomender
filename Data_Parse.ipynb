{
 "cells": [
  {
   "cell_type": "markdown",
   "id": "aa3def69",
   "metadata": {},
   "source": [
    "# Project\n",
    "\n",
    "Michael Wendell"
   ]
  },
  {
   "cell_type": "markdown",
   "id": "6ddd25d9",
   "metadata": {},
   "source": [
    "## Setup\n",
    "\n",
    "Load in required imports for data organization and graphical formatting."
   ]
  },
  {
   "cell_type": "code",
   "execution_count": 1,
   "id": "4608e30b",
   "metadata": {},
   "outputs": [],
   "source": [
    "from pathlib import Path\n",
    "import re"
   ]
  },
  {
   "cell_type": "code",
   "execution_count": 2,
   "id": "1f2630ab",
   "metadata": {},
   "outputs": [],
   "source": [
    "import numpy as np\n",
    "import pandas as pd\n",
    "import seaborn as sns\n",
    "import matplotlib.pyplot as plt"
   ]
  },
  {
   "cell_type": "code",
   "execution_count": 3,
   "id": "ad2c4810",
   "metadata": {},
   "outputs": [],
   "source": [
    "from lenskit import topn"
   ]
  },
  {
   "cell_type": "code",
   "execution_count": 4,
   "id": "a4cac822",
   "metadata": {},
   "outputs": [],
   "source": [
    "import gzip"
   ]
  },
  {
   "cell_type": "code",
   "execution_count": 5,
   "id": "9a12b332",
   "metadata": {},
   "outputs": [],
   "source": [
    "import seedbank\n",
    "seedbank.initialize(20230306)\n",
    "rng = seedbank.numpy_rng()"
   ]
  },
  {
   "cell_type": "markdown",
   "id": "f0d9e9b3",
   "metadata": {},
   "source": [
    "### Data Load\n",
    "Data retrieved from formatted source on kaggle.\n",
    "https://www.kaggle.com/datasets/antonkozyriev/game-recommendations-on-steam?select=recommendations.csv"
   ]
  },
  {
   "cell_type": "code",
   "execution_count": 4,
   "id": "92894912",
   "metadata": {},
   "outputs": [
    {
     "data": {
      "text/html": [
       "<div>\n",
       "<style scoped>\n",
       "    .dataframe tbody tr th:only-of-type {\n",
       "        vertical-align: middle;\n",
       "    }\n",
       "\n",
       "    .dataframe tbody tr th {\n",
       "        vertical-align: top;\n",
       "    }\n",
       "\n",
       "    .dataframe thead th {\n",
       "        text-align: right;\n",
       "    }\n",
       "</style>\n",
       "<table border=\"1\" class=\"dataframe\">\n",
       "  <thead>\n",
       "    <tr style=\"text-align: right;\">\n",
       "      <th></th>\n",
       "      <th>app_id</th>\n",
       "      <th>helpful</th>\n",
       "      <th>funny</th>\n",
       "      <th>date</th>\n",
       "      <th>is_recommended</th>\n",
       "      <th>hours</th>\n",
       "      <th>user_id</th>\n",
       "      <th>review_id</th>\n",
       "    </tr>\n",
       "  </thead>\n",
       "  <tbody>\n",
       "    <tr>\n",
       "      <th>0</th>\n",
       "      <td>975370</td>\n",
       "      <td>0</td>\n",
       "      <td>0</td>\n",
       "      <td>2022-12-12</td>\n",
       "      <td>True</td>\n",
       "      <td>36.3</td>\n",
       "      <td>21265</td>\n",
       "      <td>0</td>\n",
       "    </tr>\n",
       "    <tr>\n",
       "      <th>1</th>\n",
       "      <td>304390</td>\n",
       "      <td>4</td>\n",
       "      <td>0</td>\n",
       "      <td>2017-02-17</td>\n",
       "      <td>False</td>\n",
       "      <td>11.5</td>\n",
       "      <td>1166</td>\n",
       "      <td>1</td>\n",
       "    </tr>\n",
       "    <tr>\n",
       "      <th>2</th>\n",
       "      <td>1085660</td>\n",
       "      <td>2</td>\n",
       "      <td>0</td>\n",
       "      <td>2019-11-17</td>\n",
       "      <td>True</td>\n",
       "      <td>336.5</td>\n",
       "      <td>97101</td>\n",
       "      <td>2</td>\n",
       "    </tr>\n",
       "    <tr>\n",
       "      <th>3</th>\n",
       "      <td>703080</td>\n",
       "      <td>0</td>\n",
       "      <td>0</td>\n",
       "      <td>2022-09-23</td>\n",
       "      <td>True</td>\n",
       "      <td>27.4</td>\n",
       "      <td>99068</td>\n",
       "      <td>3</td>\n",
       "    </tr>\n",
       "    <tr>\n",
       "      <th>4</th>\n",
       "      <td>526870</td>\n",
       "      <td>0</td>\n",
       "      <td>0</td>\n",
       "      <td>2021-01-10</td>\n",
       "      <td>True</td>\n",
       "      <td>7.9</td>\n",
       "      <td>9721</td>\n",
       "      <td>4</td>\n",
       "    </tr>\n",
       "    <tr>\n",
       "      <th>...</th>\n",
       "      <td>...</td>\n",
       "      <td>...</td>\n",
       "      <td>...</td>\n",
       "      <td>...</td>\n",
       "      <td>...</td>\n",
       "      <td>...</td>\n",
       "      <td>...</td>\n",
       "      <td>...</td>\n",
       "    </tr>\n",
       "    <tr>\n",
       "      <th>11480207</th>\n",
       "      <td>311690</td>\n",
       "      <td>0</td>\n",
       "      <td>0</td>\n",
       "      <td>2020-09-17</td>\n",
       "      <td>True</td>\n",
       "      <td>16.1</td>\n",
       "      <td>3250115</td>\n",
       "      <td>11480207</td>\n",
       "    </tr>\n",
       "    <tr>\n",
       "      <th>11480208</th>\n",
       "      <td>1449850</td>\n",
       "      <td>0</td>\n",
       "      <td>0</td>\n",
       "      <td>2022-02-01</td>\n",
       "      <td>False</td>\n",
       "      <td>0.7</td>\n",
       "      <td>42845</td>\n",
       "      <td>11480208</td>\n",
       "    </tr>\n",
       "    <tr>\n",
       "      <th>11480209</th>\n",
       "      <td>960090</td>\n",
       "      <td>3</td>\n",
       "      <td>0</td>\n",
       "      <td>2020-11-26</td>\n",
       "      <td>True</td>\n",
       "      <td>200.2</td>\n",
       "      <td>190650</td>\n",
       "      <td>11480209</td>\n",
       "    </tr>\n",
       "    <tr>\n",
       "      <th>11480210</th>\n",
       "      <td>311690</td>\n",
       "      <td>0</td>\n",
       "      <td>0</td>\n",
       "      <td>2018-01-07</td>\n",
       "      <td>True</td>\n",
       "      <td>5.7</td>\n",
       "      <td>4429817</td>\n",
       "      <td>11480210</td>\n",
       "    </tr>\n",
       "    <tr>\n",
       "      <th>11480211</th>\n",
       "      <td>1551360</td>\n",
       "      <td>0</td>\n",
       "      <td>0</td>\n",
       "      <td>2022-06-02</td>\n",
       "      <td>True</td>\n",
       "      <td>145.7</td>\n",
       "      <td>5736637</td>\n",
       "      <td>11480211</td>\n",
       "    </tr>\n",
       "  </tbody>\n",
       "</table>\n",
       "<p>11480212 rows × 8 columns</p>\n",
       "</div>"
      ],
      "text/plain": [
       "           app_id  helpful  funny        date  is_recommended  hours  user_id  \\\n",
       "0          975370        0      0  2022-12-12            True   36.3    21265   \n",
       "1          304390        4      0  2017-02-17           False   11.5     1166   \n",
       "2         1085660        2      0  2019-11-17            True  336.5    97101   \n",
       "3          703080        0      0  2022-09-23            True   27.4    99068   \n",
       "4          526870        0      0  2021-01-10            True    7.9     9721   \n",
       "...           ...      ...    ...         ...             ...    ...      ...   \n",
       "11480207   311690        0      0  2020-09-17            True   16.1  3250115   \n",
       "11480208  1449850        0      0  2022-02-01           False    0.7    42845   \n",
       "11480209   960090        3      0  2020-11-26            True  200.2   190650   \n",
       "11480210   311690        0      0  2018-01-07            True    5.7  4429817   \n",
       "11480211  1551360        0      0  2022-06-02            True  145.7  5736637   \n",
       "\n",
       "          review_id  \n",
       "0                 0  \n",
       "1                 1  \n",
       "2                 2  \n",
       "3                 3  \n",
       "4                 4  \n",
       "...             ...  \n",
       "11480207   11480207  \n",
       "11480208   11480208  \n",
       "11480209   11480209  \n",
       "11480210   11480210  \n",
       "11480211   11480211  \n",
       "\n",
       "[11480212 rows x 8 columns]"
      ]
     },
     "execution_count": 4,
     "metadata": {},
     "output_type": "execute_result"
    }
   ],
   "source": [
    "ratings = pd.read_csv('data/recommendations.csv')\n",
    "ratings"
   ]
  },
  {
   "cell_type": "code",
   "execution_count": 5,
   "id": "66957b67",
   "metadata": {},
   "outputs": [
    {
     "data": {
      "text/plain": [
       "app_id        1874\n",
       "user_id    6053352\n",
       "dtype: int64"
      ]
     },
     "execution_count": 5,
     "metadata": {},
     "output_type": "execute_result"
    }
   ],
   "source": [
    "ratings[['app_id', 'user_id']].nunique()"
   ]
  },
  {
   "cell_type": "markdown",
   "id": "47df0f59",
   "metadata": {},
   "source": [
    "First, we will drop data we aren't using and change rating to a integer value."
   ]
  },
  {
   "cell_type": "code",
   "execution_count": 26,
   "id": "37f0ba51",
   "metadata": {},
   "outputs": [],
   "source": [
    "ratings = ratings.drop(['helpful', 'funny', 'date', 'review_id'], axis=1)"
   ]
  },
  {
   "cell_type": "code",
   "execution_count": 27,
   "id": "60ae51ee",
   "metadata": {},
   "outputs": [],
   "source": [
    "ratings['rating'] = ratings['is_recommended'] * 1"
   ]
  },
  {
   "cell_type": "code",
   "execution_count": 28,
   "id": "0a6d65ac",
   "metadata": {},
   "outputs": [
    {
     "data": {
      "text/html": [
       "<div>\n",
       "<style scoped>\n",
       "    .dataframe tbody tr th:only-of-type {\n",
       "        vertical-align: middle;\n",
       "    }\n",
       "\n",
       "    .dataframe tbody tr th {\n",
       "        vertical-align: top;\n",
       "    }\n",
       "\n",
       "    .dataframe thead th {\n",
       "        text-align: right;\n",
       "    }\n",
       "</style>\n",
       "<table border=\"1\" class=\"dataframe\">\n",
       "  <thead>\n",
       "    <tr style=\"text-align: right;\">\n",
       "      <th></th>\n",
       "      <th>app_id</th>\n",
       "      <th>is_recommended</th>\n",
       "      <th>hours</th>\n",
       "      <th>user_id</th>\n",
       "      <th>rating</th>\n",
       "    </tr>\n",
       "  </thead>\n",
       "  <tbody>\n",
       "    <tr>\n",
       "      <th>0</th>\n",
       "      <td>975370</td>\n",
       "      <td>True</td>\n",
       "      <td>36.3</td>\n",
       "      <td>21265</td>\n",
       "      <td>1</td>\n",
       "    </tr>\n",
       "    <tr>\n",
       "      <th>1</th>\n",
       "      <td>304390</td>\n",
       "      <td>False</td>\n",
       "      <td>11.5</td>\n",
       "      <td>1166</td>\n",
       "      <td>0</td>\n",
       "    </tr>\n",
       "    <tr>\n",
       "      <th>2</th>\n",
       "      <td>1085660</td>\n",
       "      <td>True</td>\n",
       "      <td>336.5</td>\n",
       "      <td>97101</td>\n",
       "      <td>1</td>\n",
       "    </tr>\n",
       "    <tr>\n",
       "      <th>3</th>\n",
       "      <td>703080</td>\n",
       "      <td>True</td>\n",
       "      <td>27.4</td>\n",
       "      <td>99068</td>\n",
       "      <td>1</td>\n",
       "    </tr>\n",
       "    <tr>\n",
       "      <th>4</th>\n",
       "      <td>526870</td>\n",
       "      <td>True</td>\n",
       "      <td>7.9</td>\n",
       "      <td>9721</td>\n",
       "      <td>1</td>\n",
       "    </tr>\n",
       "    <tr>\n",
       "      <th>...</th>\n",
       "      <td>...</td>\n",
       "      <td>...</td>\n",
       "      <td>...</td>\n",
       "      <td>...</td>\n",
       "      <td>...</td>\n",
       "    </tr>\n",
       "    <tr>\n",
       "      <th>11480207</th>\n",
       "      <td>311690</td>\n",
       "      <td>True</td>\n",
       "      <td>16.1</td>\n",
       "      <td>3250115</td>\n",
       "      <td>1</td>\n",
       "    </tr>\n",
       "    <tr>\n",
       "      <th>11480208</th>\n",
       "      <td>1449850</td>\n",
       "      <td>False</td>\n",
       "      <td>0.7</td>\n",
       "      <td>42845</td>\n",
       "      <td>0</td>\n",
       "    </tr>\n",
       "    <tr>\n",
       "      <th>11480209</th>\n",
       "      <td>960090</td>\n",
       "      <td>True</td>\n",
       "      <td>200.2</td>\n",
       "      <td>190650</td>\n",
       "      <td>1</td>\n",
       "    </tr>\n",
       "    <tr>\n",
       "      <th>11480210</th>\n",
       "      <td>311690</td>\n",
       "      <td>True</td>\n",
       "      <td>5.7</td>\n",
       "      <td>4429817</td>\n",
       "      <td>1</td>\n",
       "    </tr>\n",
       "    <tr>\n",
       "      <th>11480211</th>\n",
       "      <td>1551360</td>\n",
       "      <td>True</td>\n",
       "      <td>145.7</td>\n",
       "      <td>5736637</td>\n",
       "      <td>1</td>\n",
       "    </tr>\n",
       "  </tbody>\n",
       "</table>\n",
       "<p>11480212 rows × 5 columns</p>\n",
       "</div>"
      ],
      "text/plain": [
       "           app_id  is_recommended  hours  user_id  rating\n",
       "0          975370            True   36.3    21265       1\n",
       "1          304390           False   11.5     1166       0\n",
       "2         1085660            True  336.5    97101       1\n",
       "3          703080            True   27.4    99068       1\n",
       "4          526870            True    7.9     9721       1\n",
       "...           ...             ...    ...      ...     ...\n",
       "11480207   311690            True   16.1  3250115       1\n",
       "11480208  1449850           False    0.7    42845       0\n",
       "11480209   960090            True  200.2   190650       1\n",
       "11480210   311690            True    5.7  4429817       1\n",
       "11480211  1551360            True  145.7  5736637       1\n",
       "\n",
       "[11480212 rows x 5 columns]"
      ]
     },
     "execution_count": 28,
     "metadata": {},
     "output_type": "execute_result"
    }
   ],
   "source": [
    "ratings"
   ]
  },
  {
   "cell_type": "code",
   "execution_count": 29,
   "id": "53cf8909",
   "metadata": {},
   "outputs": [
    {
     "data": {
      "text/html": [
       "<div>\n",
       "<style scoped>\n",
       "    .dataframe tbody tr th:only-of-type {\n",
       "        vertical-align: middle;\n",
       "    }\n",
       "\n",
       "    .dataframe tbody tr th {\n",
       "        vertical-align: top;\n",
       "    }\n",
       "\n",
       "    .dataframe thead th {\n",
       "        text-align: right;\n",
       "    }\n",
       "</style>\n",
       "<table border=\"1\" class=\"dataframe\">\n",
       "  <thead>\n",
       "    <tr style=\"text-align: right;\">\n",
       "      <th></th>\n",
       "      <th>is_recommended</th>\n",
       "      <th>hours</th>\n",
       "      <th>user_id</th>\n",
       "      <th>rating</th>\n",
       "    </tr>\n",
       "    <tr>\n",
       "      <th>app_id</th>\n",
       "      <th></th>\n",
       "      <th></th>\n",
       "      <th></th>\n",
       "      <th></th>\n",
       "    </tr>\n",
       "  </thead>\n",
       "  <tbody>\n",
       "    <tr>\n",
       "      <th>30</th>\n",
       "      <td>0.904965</td>\n",
       "      <td>85.698440</td>\n",
       "      <td>3.401339e+06</td>\n",
       "      <td>0.904965</td>\n",
       "    </tr>\n",
       "    <tr>\n",
       "      <th>60</th>\n",
       "      <td>0.855105</td>\n",
       "      <td>16.416272</td>\n",
       "      <td>3.345418e+06</td>\n",
       "      <td>0.855105</td>\n",
       "    </tr>\n",
       "    <tr>\n",
       "      <th>70</th>\n",
       "      <td>0.964501</td>\n",
       "      <td>36.690691</td>\n",
       "      <td>3.149683e+06</td>\n",
       "      <td>0.964501</td>\n",
       "    </tr>\n",
       "    <tr>\n",
       "      <th>220</th>\n",
       "      <td>0.982737</td>\n",
       "      <td>39.984859</td>\n",
       "      <td>3.155729e+06</td>\n",
       "      <td>0.982737</td>\n",
       "    </tr>\n",
       "    <tr>\n",
       "      <th>400</th>\n",
       "      <td>0.997305</td>\n",
       "      <td>20.179704</td>\n",
       "      <td>3.257392e+06</td>\n",
       "      <td>0.997305</td>\n",
       "    </tr>\n",
       "    <tr>\n",
       "      <th>...</th>\n",
       "      <td>...</td>\n",
       "      <td>...</td>\n",
       "      <td>...</td>\n",
       "      <td>...</td>\n",
       "    </tr>\n",
       "    <tr>\n",
       "      <th>2179380</th>\n",
       "      <td>0.960000</td>\n",
       "      <td>9.900000</td>\n",
       "      <td>2.353501e+06</td>\n",
       "      <td>0.960000</td>\n",
       "    </tr>\n",
       "    <tr>\n",
       "      <th>2190390</th>\n",
       "      <td>0.833333</td>\n",
       "      <td>64.933333</td>\n",
       "      <td>3.349545e+06</td>\n",
       "      <td>0.833333</td>\n",
       "    </tr>\n",
       "    <tr>\n",
       "      <th>2208920</th>\n",
       "      <td>0.578642</td>\n",
       "      <td>46.661707</td>\n",
       "      <td>3.077660e+06</td>\n",
       "      <td>0.578642</td>\n",
       "    </tr>\n",
       "    <tr>\n",
       "      <th>2211280</th>\n",
       "      <td>0.677419</td>\n",
       "      <td>10.758065</td>\n",
       "      <td>2.732957e+06</td>\n",
       "      <td>0.677419</td>\n",
       "    </tr>\n",
       "    <tr>\n",
       "      <th>2220810</th>\n",
       "      <td>1.000000</td>\n",
       "      <td>4.633333</td>\n",
       "      <td>3.091761e+06</td>\n",
       "      <td>1.000000</td>\n",
       "    </tr>\n",
       "  </tbody>\n",
       "</table>\n",
       "<p>1874 rows × 4 columns</p>\n",
       "</div>"
      ],
      "text/plain": [
       "         is_recommended      hours       user_id    rating\n",
       "app_id                                                    \n",
       "30             0.904965  85.698440  3.401339e+06  0.904965\n",
       "60             0.855105  16.416272  3.345418e+06  0.855105\n",
       "70             0.964501  36.690691  3.149683e+06  0.964501\n",
       "220            0.982737  39.984859  3.155729e+06  0.982737\n",
       "400            0.997305  20.179704  3.257392e+06  0.997305\n",
       "...                 ...        ...           ...       ...\n",
       "2179380        0.960000   9.900000  2.353501e+06  0.960000\n",
       "2190390        0.833333  64.933333  3.349545e+06  0.833333\n",
       "2208920        0.578642  46.661707  3.077660e+06  0.578642\n",
       "2211280        0.677419  10.758065  2.732957e+06  0.677419\n",
       "2220810        1.000000   4.633333  3.091761e+06  1.000000\n",
       "\n",
       "[1874 rows x 4 columns]"
      ]
     },
     "execution_count": 29,
     "metadata": {},
     "output_type": "execute_result"
    }
   ],
   "source": [
    "playtime = ratings.groupby(['app_id']).mean(['hours'])\n",
    "playtime"
   ]
  },
  {
   "cell_type": "markdown",
   "id": "d9349cc0",
   "metadata": {},
   "source": [
    "There are 1874 different games in the dataset."
   ]
  },
  {
   "cell_type": "code",
   "execution_count": 30,
   "id": "8cec2bdc",
   "metadata": {},
   "outputs": [
    {
     "data": {
      "text/plain": [
       "user_id\n",
       "0          2\n",
       "1          1\n",
       "2          1\n",
       "3          2\n",
       "4          2\n",
       "          ..\n",
       "6230639    1\n",
       "6230640    1\n",
       "6230641    1\n",
       "6230642    1\n",
       "6230643    1\n",
       "Name: rating, Length: 6053352, dtype: int64"
      ]
     },
     "execution_count": 30,
     "metadata": {},
     "output_type": "execute_result"
    }
   ],
   "source": [
    "rev_num = ratings.groupby(['user_id'])['rating'].count()\n",
    "rev_num"
   ]
  },
  {
   "cell_type": "markdown",
   "id": "2b1aa278",
   "metadata": {},
   "source": [
    "There are 6,053,352 different users in the dataset."
   ]
  },
  {
   "cell_type": "markdown",
   "id": "a33871f2",
   "metadata": {},
   "source": [
    "I want to look at whether hours spent in a game creates a more impacful rating, so below applies a weighted rating based off the user recommending a game and the hours played in comparison to the average for all user that played the game."
   ]
  },
  {
   "cell_type": "code",
   "execution_count": 31,
   "id": "cadaa2c0",
   "metadata": {},
   "outputs": [],
   "source": [
    "for index, row in ratings.iterrows():\n",
    "    if (row['is_recommended'] == False):\n",
    "        ratings.at[index, 'rating'] = 0\n",
    "    elif (row['hours'] >= playtime.loc[row['app_id']]['hours']):\n",
    "        ratings.at[index, 'rating'] = 5\n",
    "    elif (row['hours'] >= 0.8 * playtime.loc[row['app_id']]['hours']):\n",
    "         ratings.at[index, 'rating'] = 4\n",
    "    elif(row['hours'] >= 0.5 * playtime.loc[row['app_id']]['hours']):\n",
    "         ratings.at[index, 'rating'] = 3\n",
    "    elif(row['hours'] >= 0.2 * playtime.loc[row['app_id']]['hours']):\n",
    "         ratings.at[index, 'rating'] = 2\n",
    "    else:\n",
    "         ratings.at[index, 'rating'] = 1"
   ]
  },
  {
   "cell_type": "code",
   "execution_count": 32,
   "id": "6b4762f7",
   "metadata": {},
   "outputs": [
    {
     "data": {
      "text/html": [
       "<div>\n",
       "<style scoped>\n",
       "    .dataframe tbody tr th:only-of-type {\n",
       "        vertical-align: middle;\n",
       "    }\n",
       "\n",
       "    .dataframe tbody tr th {\n",
       "        vertical-align: top;\n",
       "    }\n",
       "\n",
       "    .dataframe thead th {\n",
       "        text-align: right;\n",
       "    }\n",
       "</style>\n",
       "<table border=\"1\" class=\"dataframe\">\n",
       "  <thead>\n",
       "    <tr style=\"text-align: right;\">\n",
       "      <th></th>\n",
       "      <th>app_id</th>\n",
       "      <th>is_recommended</th>\n",
       "      <th>hours</th>\n",
       "      <th>user_id</th>\n",
       "      <th>rating</th>\n",
       "    </tr>\n",
       "  </thead>\n",
       "  <tbody>\n",
       "    <tr>\n",
       "      <th>0</th>\n",
       "      <td>975370</td>\n",
       "      <td>True</td>\n",
       "      <td>36.3</td>\n",
       "      <td>21265</td>\n",
       "      <td>2</td>\n",
       "    </tr>\n",
       "    <tr>\n",
       "      <th>1</th>\n",
       "      <td>304390</td>\n",
       "      <td>False</td>\n",
       "      <td>11.5</td>\n",
       "      <td>1166</td>\n",
       "      <td>0</td>\n",
       "    </tr>\n",
       "    <tr>\n",
       "      <th>2</th>\n",
       "      <td>1085660</td>\n",
       "      <td>True</td>\n",
       "      <td>336.5</td>\n",
       "      <td>97101</td>\n",
       "      <td>4</td>\n",
       "    </tr>\n",
       "    <tr>\n",
       "      <th>3</th>\n",
       "      <td>703080</td>\n",
       "      <td>True</td>\n",
       "      <td>27.4</td>\n",
       "      <td>99068</td>\n",
       "      <td>2</td>\n",
       "    </tr>\n",
       "    <tr>\n",
       "      <th>4</th>\n",
       "      <td>526870</td>\n",
       "      <td>True</td>\n",
       "      <td>7.9</td>\n",
       "      <td>9721</td>\n",
       "      <td>1</td>\n",
       "    </tr>\n",
       "    <tr>\n",
       "      <th>...</th>\n",
       "      <td>...</td>\n",
       "      <td>...</td>\n",
       "      <td>...</td>\n",
       "      <td>...</td>\n",
       "      <td>...</td>\n",
       "    </tr>\n",
       "    <tr>\n",
       "      <th>11480207</th>\n",
       "      <td>311690</td>\n",
       "      <td>True</td>\n",
       "      <td>16.1</td>\n",
       "      <td>3250115</td>\n",
       "      <td>1</td>\n",
       "    </tr>\n",
       "    <tr>\n",
       "      <th>11480208</th>\n",
       "      <td>1449850</td>\n",
       "      <td>False</td>\n",
       "      <td>0.7</td>\n",
       "      <td>42845</td>\n",
       "      <td>0</td>\n",
       "    </tr>\n",
       "    <tr>\n",
       "      <th>11480209</th>\n",
       "      <td>960090</td>\n",
       "      <td>True</td>\n",
       "      <td>200.2</td>\n",
       "      <td>190650</td>\n",
       "      <td>5</td>\n",
       "    </tr>\n",
       "    <tr>\n",
       "      <th>11480210</th>\n",
       "      <td>311690</td>\n",
       "      <td>True</td>\n",
       "      <td>5.7</td>\n",
       "      <td>4429817</td>\n",
       "      <td>1</td>\n",
       "    </tr>\n",
       "    <tr>\n",
       "      <th>11480211</th>\n",
       "      <td>1551360</td>\n",
       "      <td>True</td>\n",
       "      <td>145.7</td>\n",
       "      <td>5736637</td>\n",
       "      <td>5</td>\n",
       "    </tr>\n",
       "  </tbody>\n",
       "</table>\n",
       "<p>11480212 rows × 5 columns</p>\n",
       "</div>"
      ],
      "text/plain": [
       "           app_id  is_recommended  hours  user_id  rating\n",
       "0          975370            True   36.3    21265       2\n",
       "1          304390           False   11.5     1166       0\n",
       "2         1085660            True  336.5    97101       4\n",
       "3          703080            True   27.4    99068       2\n",
       "4          526870            True    7.9     9721       1\n",
       "...           ...             ...    ...      ...     ...\n",
       "11480207   311690            True   16.1  3250115       1\n",
       "11480208  1449850           False    0.7    42845       0\n",
       "11480209   960090            True  200.2   190650       5\n",
       "11480210   311690            True    5.7  4429817       1\n",
       "11480211  1551360            True  145.7  5736637       5\n",
       "\n",
       "[11480212 rows x 5 columns]"
      ]
     },
     "execution_count": 32,
     "metadata": {},
     "output_type": "execute_result"
    }
   ],
   "source": [
    "ratings"
   ]
  },
  {
   "cell_type": "markdown",
   "id": "0ef484c7",
   "metadata": {},
   "source": [
    "Rename the columns for usabillity."
   ]
  },
  {
   "cell_type": "code",
   "execution_count": 34,
   "id": "f61257b7",
   "metadata": {},
   "outputs": [],
   "source": [
    "ratings = ratings.rename(columns={'app_id':'item', 'user_id':'user'})"
   ]
  },
  {
   "cell_type": "markdown",
   "id": "5f440c2d",
   "metadata": {},
   "source": [
    "The metadata for game genres was stored in a seperate file which is read below, orginized in a usablle format and stored."
   ]
  },
  {
   "cell_type": "code",
   "execution_count": 29,
   "id": "d87354aa",
   "metadata": {},
   "outputs": [],
   "source": [
    "metadata = pd.read_json('data/games_metadata.json', lines=True)\n",
    "metadata = metadata.drop(['description'], axis=1)\n",
    "metadata = metadata.rename(columns={'app_id':'item', 'tags':'genre'})\n",
    "metadata = metadata.explode('genre')\n",
    "metadata.to_parquet('data/genres.parquet', index=False, compression='zstd')"
   ]
  },
  {
   "cell_type": "markdown",
   "id": "59d0ac78",
   "metadata": {},
   "source": [
    "The cells below re-read the files and alter the value types in an attempt to lower the size, so pytorch could run with more features."
   ]
  },
  {
   "cell_type": "code",
   "execution_count": 9,
   "id": "5209f46e",
   "metadata": {},
   "outputs": [],
   "source": [
    "genres =  pd.read_parquet('data/genres.parquet')\n",
    "devs =  pd.read_parquet('data/devs_full.parquet')"
   ]
  },
  {
   "cell_type": "code",
   "execution_count": 19,
   "id": "57ec7ebb",
   "metadata": {},
   "outputs": [],
   "source": [
    "genres['genre_id'] = pd.factorize(genres['genre_id'])[0]"
   ]
  },
  {
   "cell_type": "code",
   "execution_count": 21,
   "id": "29b58f81",
   "metadata": {},
   "outputs": [],
   "source": [
    "genres.to_parquet('data/genres.parquet', index=False, compression='zstd')"
   ]
  },
  {
   "cell_type": "code",
   "execution_count": 22,
   "id": "4113fe8d",
   "metadata": {},
   "outputs": [],
   "source": [
    "devs['author_id'] = pd.factorize(devs['author_id'])[0]"
   ]
  },
  {
   "cell_type": "code",
   "execution_count": 23,
   "id": "ab3675bd",
   "metadata": {},
   "outputs": [],
   "source": [
    "dev_rat = pd.DataFrame(allratings.item.unique(), columns=['item'])\n",
    "devs2 = pd.merge(devs, dev_rat, on='item', how='inner')\n",
    "devs2.to_parquet('data/devs.parquet', index=False, compression='zstd')"
   ]
  },
  {
   "cell_type": "code",
   "execution_count": 25,
   "id": "18fec20d",
   "metadata": {},
   "outputs": [],
   "source": [
    "genres =  pd.read_parquet('data/genres.parquet')\n",
    "devs['item'] = devs['item'].astype(np.int32)\n",
    "devs['author_id'] = devs['author_id'].astype(np.int32)\n",
    "\n",
    "genres['item'] = genres['item'].astype(np.int32)\n",
    "genres['genre_id'] = genres['genre_id'].astype(np.int32)\n",
    "\n",
    "devs.to_parquet('data/devs.parquet', index=False, compression='zstd')\n",
    "genres.to_parquet('data/genres.parquet', index=False, compression='zstd')"
   ]
  },
  {
   "cell_type": "markdown",
   "id": "276a488c",
   "metadata": {},
   "source": [
    "### Splitting Data"
   ]
  },
  {
   "cell_type": "markdown",
   "id": "cabf5433",
   "metadata": {},
   "source": [
    "Here we split the data to create testing and training sets, so we can then evaluate the performance of each algorithm."
   ]
  },
  {
   "cell_type": "code",
   "execution_count": 24,
   "id": "020f8c50",
   "metadata": {},
   "outputs": [],
   "source": [
    "from sklearn.model_selection import train_test_split"
   ]
  },
  {
   "cell_type": "code",
   "execution_count": 18,
   "id": "8a431ae1",
   "metadata": {},
   "outputs": [],
   "source": [
    "allratings = pd.read_parquet('data/rating_weighted.parquet')"
   ]
  },
  {
   "cell_type": "code",
   "execution_count": 26,
   "id": "7644c6a4",
   "metadata": {},
   "outputs": [
    {
     "data": {
      "text/html": [
       "<div>\n",
       "<style scoped>\n",
       "    .dataframe tbody tr th:only-of-type {\n",
       "        vertical-align: middle;\n",
       "    }\n",
       "\n",
       "    .dataframe tbody tr th {\n",
       "        vertical-align: top;\n",
       "    }\n",
       "\n",
       "    .dataframe thead th {\n",
       "        text-align: right;\n",
       "    }\n",
       "</style>\n",
       "<table border=\"1\" class=\"dataframe\">\n",
       "  <thead>\n",
       "    <tr style=\"text-align: right;\">\n",
       "      <th></th>\n",
       "      <th>item</th>\n",
       "      <th>user</th>\n",
       "      <th>rating</th>\n",
       "    </tr>\n",
       "  </thead>\n",
       "  <tbody>\n",
       "    <tr>\n",
       "      <th>0</th>\n",
       "      <td>975370</td>\n",
       "      <td>21265</td>\n",
       "      <td>2</td>\n",
       "    </tr>\n",
       "    <tr>\n",
       "      <th>1</th>\n",
       "      <td>304390</td>\n",
       "      <td>1166</td>\n",
       "      <td>0</td>\n",
       "    </tr>\n",
       "    <tr>\n",
       "      <th>2</th>\n",
       "      <td>1085660</td>\n",
       "      <td>97101</td>\n",
       "      <td>4</td>\n",
       "    </tr>\n",
       "    <tr>\n",
       "      <th>3</th>\n",
       "      <td>703080</td>\n",
       "      <td>99068</td>\n",
       "      <td>2</td>\n",
       "    </tr>\n",
       "    <tr>\n",
       "      <th>4</th>\n",
       "      <td>526870</td>\n",
       "      <td>9721</td>\n",
       "      <td>1</td>\n",
       "    </tr>\n",
       "    <tr>\n",
       "      <th>...</th>\n",
       "      <td>...</td>\n",
       "      <td>...</td>\n",
       "      <td>...</td>\n",
       "    </tr>\n",
       "    <tr>\n",
       "      <th>11480207</th>\n",
       "      <td>311690</td>\n",
       "      <td>3250115</td>\n",
       "      <td>1</td>\n",
       "    </tr>\n",
       "    <tr>\n",
       "      <th>11480208</th>\n",
       "      <td>1449850</td>\n",
       "      <td>42845</td>\n",
       "      <td>0</td>\n",
       "    </tr>\n",
       "    <tr>\n",
       "      <th>11480209</th>\n",
       "      <td>960090</td>\n",
       "      <td>190650</td>\n",
       "      <td>5</td>\n",
       "    </tr>\n",
       "    <tr>\n",
       "      <th>11480210</th>\n",
       "      <td>311690</td>\n",
       "      <td>4429817</td>\n",
       "      <td>1</td>\n",
       "    </tr>\n",
       "    <tr>\n",
       "      <th>11480211</th>\n",
       "      <td>1551360</td>\n",
       "      <td>5736637</td>\n",
       "      <td>5</td>\n",
       "    </tr>\n",
       "  </tbody>\n",
       "</table>\n",
       "<p>11480212 rows × 3 columns</p>\n",
       "</div>"
      ],
      "text/plain": [
       "             item     user  rating\n",
       "0          975370    21265       2\n",
       "1          304390     1166       0\n",
       "2         1085660    97101       4\n",
       "3          703080    99068       2\n",
       "4          526870     9721       1\n",
       "...           ...      ...     ...\n",
       "11480207   311690  3250115       1\n",
       "11480208  1449850    42845       0\n",
       "11480209   960090   190650       5\n",
       "11480210   311690  4429817       1\n",
       "11480211  1551360  5736637       5\n",
       "\n",
       "[11480212 rows x 3 columns]"
      ]
     },
     "execution_count": 26,
     "metadata": {},
     "output_type": "execute_result"
    }
   ],
   "source": [
    "allratings = allratings.drop(columns=['hours', 'is_recommended'])\n",
    "allratings"
   ]
  },
  {
   "cell_type": "code",
   "execution_count": 27,
   "id": "de21dde3",
   "metadata": {},
   "outputs": [],
   "source": [
    "allratings['item'] = allratings['item'].astype(np.int32)\n",
    "allratings['user'] = allratings['user'].astype(np.int32)"
   ]
  },
  {
   "cell_type": "code",
   "execution_count": 28,
   "id": "1447015f",
   "metadata": {},
   "outputs": [],
   "source": [
    "train, test  = train_test_split(allratings, test_size=0.40, random_state=42)"
   ]
  },
  {
   "cell_type": "code",
   "execution_count": 29,
   "id": "0b27f5bc",
   "metadata": {},
   "outputs": [],
   "source": [
    "train_users = pd.DataFrame(train.groupby('user')['item'].count())\n",
    "train_users = train_users.reset_index()\n",
    "train_users = train_users.drop(['item'], axis=1)"
   ]
  },
  {
   "cell_type": "code",
   "execution_count": 30,
   "id": "bb42bb70",
   "metadata": {},
   "outputs": [],
   "source": [
    "test = pd.merge(test, train_users, on='user', how='inner')"
   ]
  },
  {
   "cell_type": "markdown",
   "id": "07032116",
   "metadata": {},
   "source": [
    "We merge the test set with the training users so we can make sure that we are only using users that we have at least one rating for in the training data."
   ]
  },
  {
   "cell_type": "code",
   "execution_count": 31,
   "id": "f876e04d",
   "metadata": {},
   "outputs": [
    {
     "data": {
      "text/html": [
       "<div>\n",
       "<style scoped>\n",
       "    .dataframe tbody tr th:only-of-type {\n",
       "        vertical-align: middle;\n",
       "    }\n",
       "\n",
       "    .dataframe tbody tr th {\n",
       "        vertical-align: top;\n",
       "    }\n",
       "\n",
       "    .dataframe thead th {\n",
       "        text-align: right;\n",
       "    }\n",
       "</style>\n",
       "<table border=\"1\" class=\"dataframe\">\n",
       "  <thead>\n",
       "    <tr style=\"text-align: right;\">\n",
       "      <th></th>\n",
       "      <th>item</th>\n",
       "      <th>user</th>\n",
       "      <th>rating</th>\n",
       "    </tr>\n",
       "  </thead>\n",
       "  <tbody>\n",
       "    <tr>\n",
       "      <th>0</th>\n",
       "      <td>1290000</td>\n",
       "      <td>1477295</td>\n",
       "      <td>3</td>\n",
       "    </tr>\n",
       "    <tr>\n",
       "      <th>1</th>\n",
       "      <td>526870</td>\n",
       "      <td>1477295</td>\n",
       "      <td>5</td>\n",
       "    </tr>\n",
       "    <tr>\n",
       "      <th>2</th>\n",
       "      <td>252490</td>\n",
       "      <td>365647</td>\n",
       "      <td>5</td>\n",
       "    </tr>\n",
       "    <tr>\n",
       "      <th>3</th>\n",
       "      <td>239030</td>\n",
       "      <td>365647</td>\n",
       "      <td>4</td>\n",
       "    </tr>\n",
       "    <tr>\n",
       "      <th>4</th>\n",
       "      <td>420290</td>\n",
       "      <td>1379285</td>\n",
       "      <td>3</td>\n",
       "    </tr>\n",
       "    <tr>\n",
       "      <th>...</th>\n",
       "      <td>...</td>\n",
       "      <td>...</td>\n",
       "      <td>...</td>\n",
       "    </tr>\n",
       "    <tr>\n",
       "      <th>2555222</th>\n",
       "      <td>1449850</td>\n",
       "      <td>1688188</td>\n",
       "      <td>0</td>\n",
       "    </tr>\n",
       "    <tr>\n",
       "      <th>2555223</th>\n",
       "      <td>252490</td>\n",
       "      <td>4540833</td>\n",
       "      <td>5</td>\n",
       "    </tr>\n",
       "    <tr>\n",
       "      <th>2555224</th>\n",
       "      <td>546560</td>\n",
       "      <td>2835221</td>\n",
       "      <td>3</td>\n",
       "    </tr>\n",
       "    <tr>\n",
       "      <th>2555225</th>\n",
       "      <td>1056640</td>\n",
       "      <td>1019106</td>\n",
       "      <td>5</td>\n",
       "    </tr>\n",
       "    <tr>\n",
       "      <th>2555226</th>\n",
       "      <td>1091500</td>\n",
       "      <td>4928789</td>\n",
       "      <td>5</td>\n",
       "    </tr>\n",
       "  </tbody>\n",
       "</table>\n",
       "<p>2555227 rows × 3 columns</p>\n",
       "</div>"
      ],
      "text/plain": [
       "            item     user  rating\n",
       "0        1290000  1477295       3\n",
       "1         526870  1477295       5\n",
       "2         252490   365647       5\n",
       "3         239030   365647       4\n",
       "4         420290  1379285       3\n",
       "...          ...      ...     ...\n",
       "2555222  1449850  1688188       0\n",
       "2555223   252490  4540833       5\n",
       "2555224   546560  2835221       3\n",
       "2555225  1056640  1019106       5\n",
       "2555226  1091500  4928789       5\n",
       "\n",
       "[2555227 rows x 3 columns]"
      ]
     },
     "execution_count": 31,
     "metadata": {},
     "output_type": "execute_result"
    }
   ],
   "source": [
    "test"
   ]
  },
  {
   "cell_type": "code",
   "execution_count": 32,
   "id": "f3b2191d",
   "metadata": {},
   "outputs": [
    {
     "data": {
      "text/plain": [
       "user    1359562\n",
       "item       1858\n",
       "dtype: int64"
      ]
     },
     "execution_count": 32,
     "metadata": {},
     "output_type": "execute_result"
    }
   ],
   "source": [
    "test[['user', 'item']].nunique()"
   ]
  },
  {
   "cell_type": "markdown",
   "id": "8d5fefb4",
   "metadata": {},
   "source": [
    "There are still 1,359,562 users in the testing set and 1,858 games, so we will select 25,000 for each dev set and 50,000 for the eval."
   ]
  },
  {
   "cell_type": "code",
   "execution_count": 33,
   "id": "35a4dd40",
   "metadata": {},
   "outputs": [],
   "source": [
    "USERS_PER_SAMPLE = 25000\n",
    "users = np.unique(test['user'])"
   ]
  },
  {
   "cell_type": "code",
   "execution_count": 34,
   "id": "c994a621",
   "metadata": {},
   "outputs": [],
   "source": [
    "users = rng.permutation(users)"
   ]
  },
  {
   "cell_type": "markdown",
   "id": "87d0f9a7",
   "metadata": {},
   "source": [
    "The dev and eval sets are then created and stored as well as the training data."
   ]
  },
  {
   "cell_type": "code",
   "execution_count": 35,
   "id": "8fe17bdc",
   "metadata": {},
   "outputs": [],
   "source": [
    "dev_users = users[:USERS_PER_SAMPLE]\n",
    "eval_users = users[USERS_PER_SAMPLE:(USERS_PER_SAMPLE*2)]"
   ]
  },
  {
   "cell_type": "code",
   "execution_count": 36,
   "id": "0c260724",
   "metadata": {},
   "outputs": [],
   "source": [
    "dev_actions = test[test['user'].isin(dev_users)]\n",
    "eval_actions = test[test['user'].isin(eval_users)]"
   ]
  },
  {
   "cell_type": "code",
   "execution_count": 37,
   "id": "64906399",
   "metadata": {},
   "outputs": [],
   "source": [
    "dev_actions = dev_actions[['item', 'user', 'rating']]\n",
    "eval_actions = eval_actions[['item', 'user', 'rating']]"
   ]
  },
  {
   "cell_type": "code",
   "execution_count": 38,
   "id": "9a173316",
   "metadata": {},
   "outputs": [],
   "source": [
    "dev_actions.to_parquet('data/a3-dev-actions.parquet', index=False, compression='zstd')"
   ]
  },
  {
   "cell_type": "code",
   "execution_count": 39,
   "id": "2f3d12ee",
   "metadata": {},
   "outputs": [],
   "source": [
    "eval_actions.to_parquet('data/a3-eval-actions.parquet', index=False, compression='zstd')"
   ]
  },
  {
   "cell_type": "code",
   "execution_count": 40,
   "id": "e8599339",
   "metadata": {},
   "outputs": [],
   "source": [
    "train.to_parquet('data/a3-train-actions.parquet', index=False, compression='zstd')"
   ]
  },
  {
   "cell_type": "markdown",
   "id": "58f498d1",
   "metadata": {},
   "source": [
    "A combination of both the dev and eval was also saved for future use."
   ]
  },
  {
   "cell_type": "code",
   "execution_count": 41,
   "id": "f7374255",
   "metadata": {},
   "outputs": [],
   "source": [
    "frames = [dev_actions, eval_actions]\n",
    "rating = pd.concat(frames)"
   ]
  },
  {
   "cell_type": "code",
   "execution_count": 42,
   "id": "a8bf4160",
   "metadata": {},
   "outputs": [],
   "source": [
    "rating.to_parquet('data/ratings.parquet', index=False, compression='zstd')"
   ]
  },
  {
   "cell_type": "markdown",
   "id": "f57db62f",
   "metadata": {},
   "source": [
    "Now all data needed for training and recommendation is now organized and saved."
   ]
  }
 ],
 "metadata": {
  "kernelspec": {
   "display_name": "Python 3 (ipykernel)",
   "language": "python",
   "name": "python3"
  },
  "language_info": {
   "codemirror_mode": {
    "name": "ipython",
    "version": 3
   },
   "file_extension": ".py",
   "mimetype": "text/x-python",
   "name": "python",
   "nbconvert_exporter": "python",
   "pygments_lexer": "ipython3",
   "version": "3.10.9"
  }
 },
 "nbformat": 4,
 "nbformat_minor": 5
}
